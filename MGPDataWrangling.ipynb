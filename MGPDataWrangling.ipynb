{
 "cells": [
  {
   "cell_type": "markdown",
   "metadata": {},
   "source": [
    "# Data Wrangling the Mathematics Genealogy Project and MathSciNet data"
   ]
  },
  {
   "cell_type": "markdown",
   "metadata": {},
   "source": [
    "#### Scott Atkinson"
   ]
  },
  {
   "cell_type": "markdown",
   "metadata": {},
   "source": [
    "## [0. Contents](#0._Contents) <a id='0._Contents'></a>\n",
    "## [ 1. MGP Dataframe](#1._MGP_Dataframe)\n",
    "\n",
    "* [1.1. Import MGP Data](#1.1._Import_MGP_Data) Importing the raw data from `MGP_scrape.csv` into the dataframe `df`, we see we initially have 259533 rows.\n",
    "* [1.2. Drops](#1.2._Drops) We then drop two columns from coming from the import, and we drop a list of rows that we have determined earlier to either be duplicates or contain no data.  We also drop the duplicates.  This leaves us with 259423 rows.\n",
    "* [1.3. Cleaning `Thesis` column](#1.3._Cleaning_Thesis_column) The `Thesis` column is not likely to form a feature, the only cleaning for this column is to strip the '\\n's.\n",
    "* [1.4. Extracting degree title, school, and country data](#1.4._Extracting_degree_title_et_al)Next we extracted the degree title, school, and country data from the `Degree_Info` columns using string methods.  Missing country values were replaced with 'Unknown'.\n",
    "* [1.5. Extracting year data](#1.5._Extracting_year_data) Then we extracted the year information.  This required some attention because some errors occurred when the year information was entered for certain records.\n",
    "* [1.6. Getting MSC number](#1.6._Getting_MSC_number) Next we extracted the MSC (Math Subject Classification) number for each record.  Missing values were replaced with `np.nan`.\n",
    "* [1.7. Extracting Advisor Data](#1.7._Extracting_Advisor_Data) Next we made columns for the advisor data.  The max number of advisors a record has is 6, so there are 6 pairs of advisor columns.  Each pair is made up of the advisor's name and the advisor's `MGP_ID`.  Missing values were replaced with 0 so the columns can by of type int.\n",
    "* [1.8. Getting students and descendants counts](#1.8._Getting_students_and_descendants_counts) We then extracted the number of students and number of descendants for each record.  We also wrote some functions to compile the list of ancestors, students, and descendants of a given function.  The descendants function is a depth-first search.\n",
    "* [1.9. Cleaning up name column](#1.9._Cleaning_up_name_column) Next we cleaned up the `Name` column.  Every name had a space at the end, and names without a middle name had a double space between first and last name\n",
    "* [1.10. Extracting MathSciNet ID](#1.10._Extracting_MathSciNet_ID) We next extracted the MathSciNet IDs for each record. We then checked for duplicate MathSciNet IDs.  There were many that we sorted out in cells following the MathSciNet ID extraction.  For instance there were many MScNetIDs that were assigned to multipl MGP_IDs.  So we found the MGP_IDs which actually belonged with the MScNetIDs and appropriately replaced the mislabelled IDs.\n",
    "* [1.11. More drops](#1.11._More_drops) We then dropped and rearranged several columns--mainly ones containing the raw scraped data and one created for a boolean series.\n",
    "\n",
    "\n",
    "\n",
    "## [2. MScN data frame](#2._MScN_data_frame)\n",
    "\n",
    "* [2.1. Import MScN data](#2.1._Import_MScN_data) Importing the raw data from `MScN_Author_scrape.csv` into the dataframe `ms`, we see we initially have 148796 rows. \n",
    "* [2.2. Drop defective rows](#2.2._Drop_defective_rows) We then dropped all duplicate rows (keeping the first of each duplicate) and dropped all entries with non-digit MScN_IDs.  We also dropped one record because it is attached to the incorrect MGP_ID.  This left us with 148190 rows\n",
    "* [2.3. Align MGP and MScN MathSciNet IDs](#2.3._Align_MGP_and_MScN_MathSciNet_IDs) We next checked to see if the collection of MScNetIDs in `df` matched with those in `ms`.  Apparently the ones in `ms` are all contained in `df`, but `df` had 364 more IDs than `ms`.  It was found that these IDs are faulty and do not correspond to an actual MathSciNet Author page--possibly due to some clerical error.  Some of these could be fixed by adjusting a digit, but it was decided to just convert these 364 IDs to `None` in `df`.  At the end of this process, both dataframes have the same exact collection of functioning MathSciNet author IDs.\n",
    "* [2.4. Extracting info from scraped MathSciNet data](#2.4._Extracting_info_from_scraped_MathSciNet_data)We next moved to extract the data from the raw scrape of the MathSciNet pages.\n",
    " We extracted the `Earliest_Pub`, `Total_Pubs`, `Total_Rel_Pubs`, `Total_Citations`, `CollabIDs`, `CollabNames`, `Subjects`, `Num_Collaborators`, `Num_Subjects` columns.  We replaced missing information with 0 or when the dtype was int, and with `None` otherwise.\n",
    "* [2.5. Save dataframes](#2.5._Save_dataframes)Both dataframes were saved to `.csv` files: `df` to `MGP_clean.csv` and `ms` to `MScN_Author_clean.csv`.\n",
    "\n",
    "## [3. Joining MGP and MScN](#3._Joining_MGP_and_MScN)\n",
    "\n",
    "* [3.1. Join](#3.1._Join) We then performed `df` left join `ms` on `MScNetID` to produce the dataframe `am`. We used a left join to retain all student/advisor data to help with feature enginnering.\n",
    "* [3.2. Typecast](#3.2._Typecast) We converted the `NaN`s in the numerical columns to -1s so those columns can be of type int.\n",
    "* [3.3. Viable rows](#3.3._Viable_rows) There are 41037 rows in `am` with at least one students.  This will form the basis of our training/testing data for our model."
   ]
  },
  {
   "cell_type": "markdown",
   "metadata": {},
   "source": [
    "## 1. MGP Dataframe<a id='1._MGP_Dataframe'></a>"
   ]
  },
  {
   "cell_type": "code",
   "execution_count": 1,
   "metadata": {},
   "outputs": [],
   "source": [
    "import pandas as pd\n",
    "import numpy as np\n",
    "import matplotlib.pyplot as plt\n",
    "import time\n",
    "\n",
    "\n",
    "pd.set_option('display.max_colwidth', None)\n",
    "pd.set_option('display.max_columns', None)"
   ]
  },
  {
   "cell_type": "markdown",
   "metadata": {},
   "source": [
    "### 1.1. Import data<a id='1.1._Import_MGP_Data'></a>"
   ]
  },
  {
   "cell_type": "code",
   "execution_count": 2,
   "metadata": {},
   "outputs": [],
   "source": [
    "df = pd.read_csv('MGP/MGP_scrape.csv', index_col = 'MGP_ID')"
   ]
  },
  {
   "cell_type": "code",
   "execution_count": 3,
   "metadata": {},
   "outputs": [
    {
     "data": {
      "text/plain": [
       "(259553, 9)"
      ]
     },
     "execution_count": 3,
     "metadata": {},
     "output_type": "execute_result"
    }
   ],
   "source": [
    "df.shape"
   ]
  },
  {
   "cell_type": "markdown",
   "metadata": {},
   "source": [
    "### 1.2. Drops<a id='1.2._Drops'></a>"
   ]
  },
  {
   "cell_type": "code",
   "execution_count": 4,
   "metadata": {},
   "outputs": [],
   "source": [
    "# drop unnecessary columns\n",
    "\n",
    "df.drop(['Unnamed: 0','Unnamed: 0.1'], inplace = True, axis = 1)"
   ]
  },
  {
   "cell_type": "code",
   "execution_count": 5,
   "metadata": {},
   "outputs": [],
   "source": [
    "# list of records to drop because they are true duplicates\n",
    "\n",
    "drop_list = [243871, \n",
    "             251053, \n",
    "             219211, \n",
    "             253054, \n",
    "             261290, \n",
    "             240314, \n",
    "             248056,\n",
    "             249634,\n",
    "             210665,\n",
    "             228171,\n",
    "             234621,\n",
    "             123111,\n",
    "             253044,\n",
    "             229095,\n",
    "             206046,\n",
    "             251433,\n",
    "             216883,\n",
    "             245041,\n",
    "             257139,\n",
    "             98019,\n",
    "             260878,\n",
    "             209542,\n",
    "             221267,\n",
    "             255265,\n",
    "             254011,\n",
    "             260874,\n",
    "             231864,\n",
    "             233120,\n",
    "             251395,\n",
    "             258014,\n",
    "             251069,\n",
    "             260877,\n",
    "             261279,\n",
    "             251816,\n",
    "             242126,\n",
    "             243844,\n",
    "             263123,\n",
    "             261189,\n",
    "             260241,\n",
    "             168951,\n",
    "             223969,\n",
    "             197269,\n",
    "             173422,\n",
    "             63638,\n",
    "             199123,\n",
    "             238993,\n",
    "             238113,\n",
    "             242960,\n",
    "             134258,\n",
    "             253326,\n",
    "             207214,\n",
    "             232090,\n",
    "             231387,\n",
    "             245248,\n",
    "             215101,\n",
    "             240249,\n",
    "             106754,\n",
    "             243236,\n",
    "             233534,\n",
    "             70269,\n",
    "             237125,\n",
    "             198385,\n",
    "             241592,\n",
    "             124495,\n",
    "             239939,\n",
    "             112397,\n",
    "             233540,\n",
    "             26727,\n",
    "             257835,\n",
    "             226455,\n",
    "             244763,\n",
    "             206698,\n",
    "             239483,\n",
    "             207383,\n",
    "             239384,\n",
    "             257999,\n",
    "             252342,\n",
    "             200574,\n",
    "             206048,\n",
    "             189464,\n",
    "             233486,\n",
    "             185355,\n",
    "             246884,\n",
    "             203076,\n",
    "             122375,\n",
    "             252389,\n",
    "             245255\n",
    "            ]\n",
    "\n",
    "df.drop(drop_list, inplace=True)"
   ]
  },
  {
   "cell_type": "code",
   "execution_count": 6,
   "metadata": {},
   "outputs": [
    {
     "data": {
      "text/plain": [
       "(84, 7)"
      ]
     },
     "execution_count": 6,
     "metadata": {},
     "output_type": "execute_result"
    }
   ],
   "source": [
    "df[df.duplicated(keep=False)].sort_values('Name').shape"
   ]
  },
  {
   "cell_type": "code",
   "execution_count": 7,
   "metadata": {},
   "outputs": [
    {
     "data": {
      "text/plain": [
       "(259466, 7)"
      ]
     },
     "execution_count": 7,
     "metadata": {},
     "output_type": "execute_result"
    }
   ],
   "source": [
    "df.shape"
   ]
  },
  {
   "cell_type": "code",
   "execution_count": 8,
   "metadata": {},
   "outputs": [],
   "source": [
    "df.drop_duplicates(inplace=True)"
   ]
  },
  {
   "cell_type": "code",
   "execution_count": 9,
   "metadata": {},
   "outputs": [
    {
     "data": {
      "text/plain": [
       "(259423, 7)"
      ]
     },
     "execution_count": 9,
     "metadata": {},
     "output_type": "execute_result"
    }
   ],
   "source": [
    "df.shape"
   ]
  },
  {
   "cell_type": "markdown",
   "metadata": {},
   "source": [
    "### 1.3. Cleaning `Thesis` column<a id='1.3._Cleaning_Thesis_column'></a>"
   ]
  },
  {
   "cell_type": "code",
   "execution_count": 10,
   "metadata": {},
   "outputs": [],
   "source": [
    "\n",
    "\n",
    "\n",
    "# remove \\n from thesis column\n",
    "\n",
    "df['Thesis'] = df['Thesis'].str.strip('\\n')"
   ]
  },
  {
   "cell_type": "code",
   "execution_count": 11,
   "metadata": {},
   "outputs": [
    {
     "data": {
      "text/plain": [
       "Index(['Name', 'Degree_Info', 'Thesis', 'MSC', 'Advisor', 'Descendants',\n",
       "       'MScNID'],\n",
       "      dtype='object')"
      ]
     },
     "execution_count": 11,
     "metadata": {},
     "output_type": "execute_result"
    }
   ],
   "source": [
    "df.columns"
   ]
  },
  {
   "cell_type": "markdown",
   "metadata": {},
   "source": [
    "### 1.4. Extracting degree title, school, and country data from degree info column<a id='1.4._Extracting_degree_title_et_al'></a>"
   ]
  },
  {
   "cell_type": "code",
   "execution_count": 12,
   "metadata": {},
   "outputs": [],
   "source": [
    "# functions to extract degree title, institutions name, and country\n",
    "\n",
    "def extract_deg(x):\n",
    "    return '%s' %(x.split('margin-right: 0.5em\">')[-1].split('<span')[0])\n",
    "def extract_school(x):\n",
    "    return '%s' %(x.split('margin-left: 0.5em\">')[-1].split('</span')[0])\n",
    "def extract_country(x):\n",
    "    return '%s' %(x.split('title=\"')[-1].split('\"')[0])"
   ]
  },
  {
   "cell_type": "code",
   "execution_count": 13,
   "metadata": {},
   "outputs": [],
   "source": [
    "df['Degree'] = df['Degree_Info'].apply(extract_deg)\n",
    "df['School'] = df['Degree_Info'].apply(extract_school)\n",
    "df['Country'] = df['Degree_Info'].apply(extract_country)"
   ]
  },
  {
   "cell_type": "code",
   "execution_count": 14,
   "metadata": {},
   "outputs": [
    {
     "data": {
      "text/plain": [
       "(14445, 10)"
      ]
     },
     "execution_count": 14,
     "metadata": {},
     "output_type": "execute_result"
    }
   ],
   "source": [
    "# cleaning up country column\n",
    "\n",
    "df[df['Country'].str.contains('div')].shape"
   ]
  },
  {
   "cell_type": "code",
   "execution_count": 15,
   "metadata": {},
   "outputs": [],
   "source": [
    "# Convert '<div style=' to 'Unknown' in 'Country' column\n",
    "\n",
    "df['Country'] = df['Country'].apply(lambda C: 'Unknown' if C == '<div style=' else C)"
   ]
  },
  {
   "cell_type": "code",
   "execution_count": 16,
   "metadata": {},
   "outputs": [],
   "source": [
    "# a function to determine the number of time </span> shows up in a value\n",
    "\n",
    "def split_length(s):\n",
    "    return len(s.split('</span>'))"
   ]
  },
  {
   "cell_type": "markdown",
   "metadata": {},
   "source": [
    "### 1.5. Extracting year data<a id='1.5._Extracting_year_data'></a>"
   ]
  },
  {
   "cell_type": "code",
   "execution_count": 17,
   "metadata": {},
   "outputs": [
    {
     "data": {
      "text/plain": [
       "(2, 10)"
      ]
     },
     "execution_count": 17,
     "metadata": {},
     "output_type": "execute_result"
    }
   ],
   "source": [
    "df[df['Degree_Info'].apply(split_length) < 3].shape"
   ]
  },
  {
   "cell_type": "markdown",
   "metadata": {},
   "source": [
    "2 rows have `'</span>'` show up less than twice in the `'Degree_Info'` column"
   ]
  },
  {
   "cell_type": "code",
   "execution_count": 18,
   "metadata": {},
   "outputs": [],
   "source": [
    "def extract_year(x):\n",
    "    if len(x.split('</span>')) > 2:\n",
    "        return '%s' %(x.split('margin-left: 0.5em\">')[-1].split('</span>')[1].split('</'))[0]\n",
    "    else:\n",
    "        return 0\n",
    "df['Year'] = df['Degree_Info'].apply(extract_year)"
   ]
  },
  {
   "cell_type": "code",
   "execution_count": 19,
   "metadata": {},
   "outputs": [],
   "source": [
    "# convert all year values to strings to for cleaning\n",
    "\n",
    "df['Year'] = df['Year'].apply(str)"
   ]
  },
  {
   "cell_type": "code",
   "execution_count": 20,
   "metadata": {},
   "outputs": [],
   "source": [
    "df['Year'] = df['Year'].str.strip(' ')"
   ]
  },
  {
   "cell_type": "code",
   "execution_count": 21,
   "metadata": {},
   "outputs": [],
   "source": [
    "# convert all empty years to 0 so we can make this column type integers\n",
    "df['Year'] = df['Year'].apply(lambda C: '0' if C == '' else C)"
   ]
  },
  {
   "cell_type": "code",
   "execution_count": 22,
   "metadata": {
    "scrolled": false
   },
   "outputs": [
    {
     "data": {
      "text/plain": [
       "(2, 11)"
      ]
     },
     "execution_count": 22,
     "metadata": {},
     "output_type": "execute_result"
    }
   ],
   "source": [
    "df[~df['Year'].str[:4].str.isdigit()].shape"
   ]
  },
  {
   "cell_type": "code",
   "execution_count": 23,
   "metadata": {},
   "outputs": [],
   "source": [
    "df.loc[73629,['Year']] = '1845'"
   ]
  },
  {
   "cell_type": "code",
   "execution_count": 24,
   "metadata": {},
   "outputs": [],
   "source": [
    "df.loc[248564, ['Year']] = '2018'"
   ]
  },
  {
   "cell_type": "code",
   "execution_count": 25,
   "metadata": {},
   "outputs": [
    {
     "data": {
      "text/plain": [
       "(111, 11)"
      ]
     },
     "execution_count": 25,
     "metadata": {},
     "output_type": "execute_result"
    }
   ],
   "source": [
    "df[~(df['Year'].str.isdigit()) & (df['Year'].str[:4].str.isdigit())].shape"
   ]
  },
  {
   "cell_type": "code",
   "execution_count": 26,
   "metadata": {},
   "outputs": [],
   "source": [
    "def earlier_year(s):\n",
    "    if not s.isdigit() and s[:4].isdigit():\n",
    "        return s[:4]\n",
    "    else:\n",
    "        return s\n",
    "        "
   ]
  },
  {
   "cell_type": "code",
   "execution_count": 27,
   "metadata": {},
   "outputs": [],
   "source": [
    "# take earlier year listed\n",
    "\n",
    "df['Year'] = df['Year'].apply(earlier_year)"
   ]
  },
  {
   "cell_type": "code",
   "execution_count": 28,
   "metadata": {},
   "outputs": [],
   "source": [
    "# based on thesis info, ID#41944 earned her PhD in 1882\n",
    "\n",
    "df.loc[41944, ['Year']] = '1882'"
   ]
  },
  {
   "cell_type": "code",
   "execution_count": 29,
   "metadata": {},
   "outputs": [
    {
     "data": {
      "text/plain": [
       "'1998'"
      ]
     },
     "execution_count": 29,
     "metadata": {},
     "output_type": "execute_result"
    }
   ],
   "source": [
    "df.loc[111235, 'Year']"
   ]
  },
  {
   "cell_type": "code",
   "execution_count": 30,
   "metadata": {},
   "outputs": [],
   "source": [
    "# some strange formatting for ID#111235, set year to 1998\n",
    "\n",
    "df.loc[111235, 'Year'] = '1998'"
   ]
  },
  {
   "cell_type": "code",
   "execution_count": 31,
   "metadata": {},
   "outputs": [
    {
     "data": {
      "text/plain": [
       "(259423, 11)"
      ]
     },
     "execution_count": 31,
     "metadata": {},
     "output_type": "execute_result"
    }
   ],
   "source": [
    "df[(df['Year'].str.isdigit())].shape"
   ]
  },
  {
   "cell_type": "code",
   "execution_count": 32,
   "metadata": {},
   "outputs": [
    {
     "data": {
      "text/html": [
       "<div>\n",
       "<style scoped>\n",
       "    .dataframe tbody tr th:only-of-type {\n",
       "        vertical-align: middle;\n",
       "    }\n",
       "\n",
       "    .dataframe tbody tr th {\n",
       "        vertical-align: top;\n",
       "    }\n",
       "\n",
       "    .dataframe thead th {\n",
       "        text-align: right;\n",
       "    }\n",
       "</style>\n",
       "<table border=\"1\" class=\"dataframe\">\n",
       "  <thead>\n",
       "    <tr style=\"text-align: right;\">\n",
       "      <th></th>\n",
       "      <th>Name</th>\n",
       "      <th>Degree_Info</th>\n",
       "      <th>Thesis</th>\n",
       "      <th>MSC</th>\n",
       "      <th>Advisor</th>\n",
       "      <th>Descendants</th>\n",
       "      <th>MScNID</th>\n",
       "      <th>Degree</th>\n",
       "      <th>School</th>\n",
       "      <th>Country</th>\n",
       "      <th>Year</th>\n",
       "    </tr>\n",
       "    <tr>\n",
       "      <th>MGP_ID</th>\n",
       "      <th></th>\n",
       "      <th></th>\n",
       "      <th></th>\n",
       "      <th></th>\n",
       "      <th></th>\n",
       "      <th></th>\n",
       "      <th></th>\n",
       "      <th></th>\n",
       "      <th></th>\n",
       "      <th></th>\n",
       "      <th></th>\n",
       "    </tr>\n",
       "  </thead>\n",
       "  <tbody>\n",
       "  </tbody>\n",
       "</table>\n",
       "</div>"
      ],
      "text/plain": [
       "Empty DataFrame\n",
       "Columns: [Name, Degree_Info, Thesis, MSC, Advisor, Descendants, MScNID, Degree, School, Country, Year]\n",
       "Index: []"
      ]
     },
     "execution_count": 32,
     "metadata": {},
     "output_type": "execute_result"
    }
   ],
   "source": [
    "df[df['Year'].str.contains('c')]"
   ]
  },
  {
   "cell_type": "code",
   "execution_count": 33,
   "metadata": {},
   "outputs": [],
   "source": [
    "# all 'Year' values are integers, convert back to integers\n",
    "df['Year'] = df['Year'].apply(int)"
   ]
  },
  {
   "cell_type": "code",
   "execution_count": 34,
   "metadata": {
    "scrolled": true
   },
   "outputs": [
    {
     "data": {
      "text/html": [
       "<div>\n",
       "<style scoped>\n",
       "    .dataframe tbody tr th:only-of-type {\n",
       "        vertical-align: middle;\n",
       "    }\n",
       "\n",
       "    .dataframe tbody tr th {\n",
       "        vertical-align: top;\n",
       "    }\n",
       "\n",
       "    .dataframe thead th {\n",
       "        text-align: right;\n",
       "    }\n",
       "</style>\n",
       "<table border=\"1\" class=\"dataframe\">\n",
       "  <thead>\n",
       "    <tr style=\"text-align: right;\">\n",
       "      <th></th>\n",
       "      <th>Name</th>\n",
       "      <th>Degree_Info</th>\n",
       "      <th>Thesis</th>\n",
       "      <th>MSC</th>\n",
       "      <th>Advisor</th>\n",
       "      <th>Descendants</th>\n",
       "      <th>MScNID</th>\n",
       "      <th>Degree</th>\n",
       "      <th>School</th>\n",
       "      <th>Country</th>\n",
       "      <th>Year</th>\n",
       "    </tr>\n",
       "    <tr>\n",
       "      <th>MGP_ID</th>\n",
       "      <th></th>\n",
       "      <th></th>\n",
       "      <th></th>\n",
       "      <th></th>\n",
       "      <th></th>\n",
       "      <th></th>\n",
       "      <th></th>\n",
       "      <th></th>\n",
       "      <th></th>\n",
       "      <th></th>\n",
       "      <th></th>\n",
       "    </tr>\n",
       "  </thead>\n",
       "  <tbody>\n",
       "    <tr>\n",
       "      <th>235671</th>\n",
       "      <td>\\nKai  Kopfer</td>\n",
       "      <td>&lt;div style=\"line-height: 30px; text-align: center; margin-bottom: 1ex\"&gt;\\n&lt;span style=\"margin-right: 0.5em\"&gt;Ph.D. &lt;span style=\"color:\\n  #006633; margin-left: 0.5em\"&gt;Ruprecht-Karls-Universität Heidelberg&lt;/span&gt; 20018&lt;/span&gt;\\n&lt;img alt=\"Germany\" height=\"30\" src=\"img/flags/Germany.gif\" style=\"border: 0; vertical-align: middle\" title=\"Germany\" width=\"50\"/&gt;\\n&lt;/div&gt;</td>\n",
       "      <td>A mechanochemical model for cell polarization</td>\n",
       "      <td>Mathematics Subject Classification: 92—Biology and other natural sciences</td>\n",
       "      <td>&lt;p style=\"text-align: center; line-height: 2.75ex\"&gt;Advisor 1: &lt;a href=\"id.php?id=21566\"&gt;Willi  Jäger&lt;/a&gt;&lt;br/&gt;&lt;/p&gt;</td>\n",
       "      <td>No students known.</td>\n",
       "      <td>&lt;p style=\"text-align: center; margin-top: 0; margin-bottom: 0px; font-size: small\"&gt;\\n&lt;/p&gt;</td>\n",
       "      <td>Ph.D.</td>\n",
       "      <td>Ruprecht-Karls-Universität Heidelberg</td>\n",
       "      <td>Germany</td>\n",
       "      <td>20018</td>\n",
       "    </tr>\n",
       "    <tr>\n",
       "      <th>252420</th>\n",
       "      <td>\\nIrene Y. Zhang</td>\n",
       "      <td>&lt;div style=\"line-height: 30px; text-align: center; margin-bottom: 1ex\"&gt;\\n&lt;span style=\"margin-right: 0.5em\"&gt;Ph.D. &lt;span style=\"color:\\n  #006633; margin-left: 0.5em\"&gt;University of Washington&lt;/span&gt; 2107&lt;/span&gt;\\n&lt;img alt=\"UnitedStates\" height=\"30\" src=\"img/flags/UnitedStates.gif\" style=\"border: 0; vertical-align: middle\" title=\"UnitedStates\" width=\"57\"/&gt;\\n&lt;/div&gt;</td>\n",
       "      <td>Towards a Flexible, High-Performance Operating System for Mobile/Cloud Applications</td>\n",
       "      <td>Mathematics Subject Classification: 68—Computer science</td>\n",
       "      <td>&lt;p style=\"text-align: center; line-height: 2.75ex\"&gt;Advisor 1: &lt;a href=\"id.php?id=69000\"&gt;Henry (Hank) M. Levy&lt;/a&gt;&lt;br/&gt;Advisor 2: &lt;a href=\"id.php?id=55190\"&gt;Arvind  Krishnamurthy&lt;/a&gt;&lt;br/&gt;&lt;/p&gt;</td>\n",
       "      <td>No students known.</td>\n",
       "      <td>&lt;p style=\"text-align: center; margin-top: 0; margin-bottom: 0px; font-size: small\"&gt;\\n&lt;/p&gt;</td>\n",
       "      <td>Ph.D.</td>\n",
       "      <td>University of Washington</td>\n",
       "      <td>UnitedStates</td>\n",
       "      <td>2107</td>\n",
       "    </tr>\n",
       "    <tr>\n",
       "      <th>238848</th>\n",
       "      <td>\\nErfang  Ma</td>\n",
       "      <td>&lt;div style=\"line-height: 30px; text-align: center; margin-bottom: 1ex\"&gt;\\n&lt;span style=\"margin-right: 0.5em\"&gt;Ph.D. &lt;span style=\"color:\\n  #006633; margin-left: 0.5em\"&gt;University of Otago&lt;/span&gt; 2102&lt;/span&gt;\\n&lt;img alt=\"NewZealand\" height=\"30\" src=\"img/flags/NewZealand.gif\" style=\"border: 0; vertical-align: middle\" title=\"NewZealand\" width=\"60\"/&gt;\\n&lt;/div&gt;</td>\n",
       "      <td>Application of Markov Chain Monte Carlo Methods in Electrical Impedance Tomography</td>\n",
       "      <td>No MSC given</td>\n",
       "      <td>&lt;p style=\"text-align: center; line-height: 2.75ex\"&gt;Advisor 1: &lt;a href=\"id.php?id=44383\"&gt;Colin  Fox&lt;/a&gt;&lt;br/&gt;&lt;/p&gt;</td>\n",
       "      <td>No students known.</td>\n",
       "      <td>&lt;p style=\"text-align: center; margin-top: 0; margin-bottom: 0px; font-size: small\"&gt;\\n&lt;/p&gt;</td>\n",
       "      <td>Ph.D.</td>\n",
       "      <td>University of Otago</td>\n",
       "      <td>NewZealand</td>\n",
       "      <td>2102</td>\n",
       "    </tr>\n",
       "    <tr>\n",
       "      <th>254349</th>\n",
       "      <td>\\nTuan Anh  Dao</td>\n",
       "      <td>&lt;div style=\"line-height: 30px; text-align: center; margin-bottom: 1ex\"&gt;\\n&lt;span style=\"margin-right: 0.5em\"&gt;Ph.D. &lt;span style=\"color:\\n  #006633; margin-left: 0.5em\"&gt;Uppsala Universitet&lt;/span&gt; 2024&lt;/span&gt;\\n&lt;img alt=\"Sweden\" height=\"30\" src=\"img/flags/Sweden.gif\" style=\"border: 0; vertical-align: middle\" title=\"Sweden\" width=\"48\"/&gt;\\n&lt;/div&gt;</td>\n",
       "      <td>Invariant domain preserving schemes for Magnetohydrodynamics</td>\n",
       "      <td>Mathematics Subject Classification: 65—Numerical analysis</td>\n",
       "      <td>&lt;p style=\"text-align: center; line-height: 2.75ex\"&gt;Advisor 1: &lt;a href=\"id.php?id=165208\"&gt;Murtazo  Nazarov&lt;/a&gt;&lt;br/&gt;Advisor 2: &lt;a href=\"id.php?id=254348\"&gt;Ken  Mattsson&lt;/a&gt;&lt;br/&gt;&lt;/p&gt;</td>\n",
       "      <td>No students known.</td>\n",
       "      <td>&lt;p style=\"text-align: center; margin-top: 0; margin-bottom: 0px; font-size: small\"&gt;\\n&lt;/p&gt;</td>\n",
       "      <td>Ph.D.</td>\n",
       "      <td>Uppsala Universitet</td>\n",
       "      <td>Sweden</td>\n",
       "      <td>2024</td>\n",
       "    </tr>\n",
       "    <tr>\n",
       "      <th>260624</th>\n",
       "      <td>\\nAnna  Quaglieri</td>\n",
       "      <td>&lt;div style=\"line-height: 30px; text-align: center; margin-bottom: 1ex\"&gt;\\n&lt;span style=\"margin-right: 0.5em\"&gt;Ph.D. &lt;span style=\"color:\\n  #006633; margin-left: 0.5em\"&gt;University of Melbourne&lt;/span&gt; 2020&lt;/span&gt;\\n&lt;img alt=\"Australia\" height=\"30\" src=\"img/flags/Australia.gif\" style=\"border: 0; vertical-align: middle\" title=\"Australia\" width=\"60\"/&gt;\\n&lt;/div&gt;</td>\n",
       "      <td>Using transcriptomics to study relapse in Acute Myeloid Leukaemia</td>\n",
       "      <td>Mathematics Subject Classification: 62—Statistics</td>\n",
       "      <td>&lt;p style=\"text-align: center; line-height: 2.75ex\"&gt;Advisor 1: &lt;a href=\"id.php?id=30979\"&gt;Terence Paul Speed&lt;/a&gt;&lt;br/&gt;&lt;/p&gt;</td>\n",
       "      <td>No students known.</td>\n",
       "      <td>&lt;p style=\"text-align: center; margin-top: 0; margin-bottom: 0px; font-size: small\"&gt;\\n&lt;/p&gt;</td>\n",
       "      <td>Ph.D.</td>\n",
       "      <td>University of Melbourne</td>\n",
       "      <td>Australia</td>\n",
       "      <td>2020</td>\n",
       "    </tr>\n",
       "  </tbody>\n",
       "</table>\n",
       "</div>"
      ],
      "text/plain": [
       "                      Name  \\\n",
       "MGP_ID                       \n",
       "235671      \\nKai  Kopfer    \n",
       "252420   \\nIrene Y. Zhang    \n",
       "238848       \\nErfang  Ma    \n",
       "254349    \\nTuan Anh  Dao    \n",
       "260624  \\nAnna  Quaglieri    \n",
       "\n",
       "                                                                                                                                                                                                                                                                                                                                                                       Degree_Info  \\\n",
       "MGP_ID                                                                                                                                                                                                                                                                                                                                                                               \n",
       "235671   <div style=\"line-height: 30px; text-align: center; margin-bottom: 1ex\">\\n<span style=\"margin-right: 0.5em\">Ph.D. <span style=\"color:\\n  #006633; margin-left: 0.5em\">Ruprecht-Karls-Universität Heidelberg</span> 20018</span>\\n<img alt=\"Germany\" height=\"30\" src=\"img/flags/Germany.gif\" style=\"border: 0; vertical-align: middle\" title=\"Germany\" width=\"50\"/>\\n</div>   \n",
       "252420  <div style=\"line-height: 30px; text-align: center; margin-bottom: 1ex\">\\n<span style=\"margin-right: 0.5em\">Ph.D. <span style=\"color:\\n  #006633; margin-left: 0.5em\">University of Washington</span> 2107</span>\\n<img alt=\"UnitedStates\" height=\"30\" src=\"img/flags/UnitedStates.gif\" style=\"border: 0; vertical-align: middle\" title=\"UnitedStates\" width=\"57\"/>\\n</div>   \n",
       "238848             <div style=\"line-height: 30px; text-align: center; margin-bottom: 1ex\">\\n<span style=\"margin-right: 0.5em\">Ph.D. <span style=\"color:\\n  #006633; margin-left: 0.5em\">University of Otago</span> 2102</span>\\n<img alt=\"NewZealand\" height=\"30\" src=\"img/flags/NewZealand.gif\" style=\"border: 0; vertical-align: middle\" title=\"NewZealand\" width=\"60\"/>\\n</div>   \n",
       "254349                         <div style=\"line-height: 30px; text-align: center; margin-bottom: 1ex\">\\n<span style=\"margin-right: 0.5em\">Ph.D. <span style=\"color:\\n  #006633; margin-left: 0.5em\">Uppsala Universitet</span> 2024</span>\\n<img alt=\"Sweden\" height=\"30\" src=\"img/flags/Sweden.gif\" style=\"border: 0; vertical-align: middle\" title=\"Sweden\" width=\"48\"/>\\n</div>   \n",
       "260624            <div style=\"line-height: 30px; text-align: center; margin-bottom: 1ex\">\\n<span style=\"margin-right: 0.5em\">Ph.D. <span style=\"color:\\n  #006633; margin-left: 0.5em\">University of Melbourne</span> 2020</span>\\n<img alt=\"Australia\" height=\"30\" src=\"img/flags/Australia.gif\" style=\"border: 0; vertical-align: middle\" title=\"Australia\" width=\"60\"/>\\n</div>   \n",
       "\n",
       "                                                                                     Thesis  \\\n",
       "MGP_ID                                                                                        \n",
       "235671                                        A mechanochemical model for cell polarization   \n",
       "252420  Towards a Flexible, High-Performance Operating System for Mobile/Cloud Applications   \n",
       "238848   Application of Markov Chain Monte Carlo Methods in Electrical Impedance Tomography   \n",
       "254349                         Invariant domain preserving schemes for Magnetohydrodynamics   \n",
       "260624                    Using transcriptomics to study relapse in Acute Myeloid Leukaemia   \n",
       "\n",
       "                                                                              MSC  \\\n",
       "MGP_ID                                                                              \n",
       "235671  Mathematics Subject Classification: 92—Biology and other natural sciences   \n",
       "252420                    Mathematics Subject Classification: 68—Computer science   \n",
       "238848                                                               No MSC given   \n",
       "254349                  Mathematics Subject Classification: 65—Numerical analysis   \n",
       "260624                          Mathematics Subject Classification: 62—Statistics   \n",
       "\n",
       "                                                                                                                                                                                             Advisor  \\\n",
       "MGP_ID                                                                                                                                                                                                 \n",
       "235671                                                                             <p style=\"text-align: center; line-height: 2.75ex\">Advisor 1: <a href=\"id.php?id=21566\">Willi  Jäger</a><br/></p>   \n",
       "252420  <p style=\"text-align: center; line-height: 2.75ex\">Advisor 1: <a href=\"id.php?id=69000\">Henry (Hank) M. Levy</a><br/>Advisor 2: <a href=\"id.php?id=55190\">Arvind  Krishnamurthy</a><br/></p>   \n",
       "238848                                                                               <p style=\"text-align: center; line-height: 2.75ex\">Advisor 1: <a href=\"id.php?id=44383\">Colin  Fox</a><br/></p>   \n",
       "254349            <p style=\"text-align: center; line-height: 2.75ex\">Advisor 1: <a href=\"id.php?id=165208\">Murtazo  Nazarov</a><br/>Advisor 2: <a href=\"id.php?id=254348\">Ken  Mattsson</a><br/></p>   \n",
       "260624                                                                       <p style=\"text-align: center; line-height: 2.75ex\">Advisor 1: <a href=\"id.php?id=30979\">Terence Paul Speed</a><br/></p>   \n",
       "\n",
       "               Descendants  \\\n",
       "MGP_ID                       \n",
       "235671  No students known.   \n",
       "252420  No students known.   \n",
       "238848  No students known.   \n",
       "254349  No students known.   \n",
       "260624  No students known.   \n",
       "\n",
       "                                                                                           MScNID  \\\n",
       "MGP_ID                                                                                              \n",
       "235671  <p style=\"text-align: center; margin-top: 0; margin-bottom: 0px; font-size: small\">\\n</p>   \n",
       "252420  <p style=\"text-align: center; margin-top: 0; margin-bottom: 0px; font-size: small\">\\n</p>   \n",
       "238848  <p style=\"text-align: center; margin-top: 0; margin-bottom: 0px; font-size: small\">\\n</p>   \n",
       "254349  <p style=\"text-align: center; margin-top: 0; margin-bottom: 0px; font-size: small\">\\n</p>   \n",
       "260624  <p style=\"text-align: center; margin-top: 0; margin-bottom: 0px; font-size: small\">\\n</p>   \n",
       "\n",
       "        Degree                                 School       Country   Year  \n",
       "MGP_ID                                                                      \n",
       "235671  Ph.D.   Ruprecht-Karls-Universität Heidelberg       Germany  20018  \n",
       "252420  Ph.D.                University of Washington  UnitedStates   2107  \n",
       "238848  Ph.D.                     University of Otago    NewZealand   2102  \n",
       "254349  Ph.D.                     Uppsala Universitet        Sweden   2024  \n",
       "260624  Ph.D.                 University of Melbourne     Australia   2020  "
      ]
     },
     "execution_count": 34,
     "metadata": {},
     "output_type": "execute_result"
    }
   ],
   "source": [
    "# sort by year to find weird year values\n",
    "\n",
    "df[df['Year']>0].sort_values('Year', ascending = False).head()"
   ]
  },
  {
   "cell_type": "markdown",
   "metadata": {},
   "source": [
    "IDs 235671, 252420, 238848 need correcting"
   ]
  },
  {
   "cell_type": "code",
   "execution_count": 35,
   "metadata": {
    "scrolled": true
   },
   "outputs": [
    {
     "data": {
      "text/html": [
       "<div>\n",
       "<style scoped>\n",
       "    .dataframe tbody tr th:only-of-type {\n",
       "        vertical-align: middle;\n",
       "    }\n",
       "\n",
       "    .dataframe tbody tr th {\n",
       "        vertical-align: top;\n",
       "    }\n",
       "\n",
       "    .dataframe thead th {\n",
       "        text-align: right;\n",
       "    }\n",
       "</style>\n",
       "<table border=\"1\" class=\"dataframe\">\n",
       "  <thead>\n",
       "    <tr style=\"text-align: right;\">\n",
       "      <th></th>\n",
       "      <th>Name</th>\n",
       "      <th>Degree_Info</th>\n",
       "      <th>Thesis</th>\n",
       "      <th>MSC</th>\n",
       "      <th>Advisor</th>\n",
       "      <th>Descendants</th>\n",
       "      <th>MScNID</th>\n",
       "      <th>Degree</th>\n",
       "      <th>School</th>\n",
       "      <th>Country</th>\n",
       "      <th>Year</th>\n",
       "    </tr>\n",
       "    <tr>\n",
       "      <th>MGP_ID</th>\n",
       "      <th></th>\n",
       "      <th></th>\n",
       "      <th></th>\n",
       "      <th></th>\n",
       "      <th></th>\n",
       "      <th></th>\n",
       "      <th></th>\n",
       "      <th></th>\n",
       "      <th></th>\n",
       "      <th></th>\n",
       "      <th></th>\n",
       "    </tr>\n",
       "  </thead>\n",
       "  <tbody>\n",
       "    <tr>\n",
       "      <th>259778</th>\n",
       "      <td>\\nPedro Toniol Cardin</td>\n",
       "      <td>&lt;div style=\"line-height: 30px; text-align: center; margin-bottom: 1ex\"&gt;\\n&lt;span style=\"margin-right: 0.5em\"&gt;Ph.D. &lt;span style=\"color:\\n  #006633; margin-left: 0.5em\"&gt;Universidade Estadual Paulista \"Júlio de Mesquita Filho\"&lt;/span&gt; 20&lt;/span&gt;\\n&lt;img alt=\"Brazil\" height=\"30\" src=\"img/flags/Brazil.gif\" style=\"border: 0; vertical-align: middle\" title=\"Brazil\" width=\"43\"/&gt;\\n&lt;/div&gt;</td>\n",
       "      <td>Equações com impasse e problemas de perturbação singular</td>\n",
       "      <td>Mathematics Subject Classification: 37—Dynamical systems and ergodic theory</td>\n",
       "      <td>&lt;p style=\"text-align: center; line-height: 2.75ex\"&gt;Advisor 1: &lt;a href=\"id.php?id=170285\"&gt;Paulo Ricardo  da Silva&lt;/a&gt;&lt;br/&gt;&lt;/p&gt;</td>\n",
       "      <td>No students known.</td>\n",
       "      <td>&lt;p style=\"text-align: center; margin-top: 0; margin-bottom: 0px; font-size: small\"&gt;\\n&lt;a href=\"http://www.ams.org/mathscinet/MRAuthorID/956004\"&gt;MathSciNet&lt;/a&gt;\\n&lt;/p&gt;</td>\n",
       "      <td>Ph.D.</td>\n",
       "      <td>Universidade Estadual Paulista \"Júlio de Mesquita Filho\"</td>\n",
       "      <td>Brazil</td>\n",
       "      <td>20</td>\n",
       "    </tr>\n",
       "    <tr>\n",
       "      <th>254024</th>\n",
       "      <td>\\nMohammad Esmael  Samei</td>\n",
       "      <td>&lt;div style=\"line-height: 30px; text-align: center; margin-bottom: 1ex\"&gt;\\n&lt;span style=\"margin-right: 0.5em\"&gt;Ph.D. &lt;span style=\"color:\\n  #006633; margin-left: 0.5em\"&gt;&lt;/span&gt; 43&lt;/span&gt;\\n&lt;/div&gt;</td>\n",
       "      <td>Fixed points of $\\alpha$-$\\psi$-contractive type mappings and multifunctions on intuitionistic fuzzy metric space</td>\n",
       "      <td>Mathematics Subject Classification: 46—Functional analysis</td>\n",
       "      <td>&lt;p style=\"text-align: center; line-height: 2.75ex\"&gt;Advisor 1: &lt;a href=\"id.php?id=140610\"&gt;Sharam  Rezapour&lt;/a&gt;&lt;br/&gt;&lt;/p&gt;</td>\n",
       "      <td>No students known.</td>\n",
       "      <td>&lt;p style=\"text-align: center; margin-top: 0; margin-bottom: 0px; font-size: small\"&gt;\\n&lt;/p&gt;</td>\n",
       "      <td>Ph.D.</td>\n",
       "      <td></td>\n",
       "      <td>Unknown</td>\n",
       "      <td>43</td>\n",
       "    </tr>\n",
       "    <tr>\n",
       "      <th>261324</th>\n",
       "      <td>\\nJaimee  Brown</td>\n",
       "      <td>&lt;div style=\"line-height: 30px; text-align: center; margin-bottom: 1ex\"&gt;\\n&lt;span style=\"margin-right: 0.5em\"&gt;Ph.D. &lt;span style=\"color:\\n  #006633; margin-left: 0.5em\"&gt;Queensland University of Technology&lt;/span&gt; 200&lt;/span&gt;\\n&lt;img alt=\"Australia\" height=\"30\" src=\"img/flags/Australia.gif\" style=\"border: 0; vertical-align: middle\" title=\"Australia\" width=\"60\"/&gt;\\n&lt;/div&gt;</td>\n",
       "      <td>Secure public-key encryption from factorisation-related problems</td>\n",
       "      <td>Mathematics Subject Classification: 68—Computer science</td>\n",
       "      <td>&lt;p style=\"text-align: center; line-height: 2.75ex\"&gt;Advisor 1: &lt;a href=\"id.php?id=261313\"&gt;Juan  Gonzalez Nieto&lt;/a&gt;&lt;br/&gt;Advisor 2: &lt;a href=\"id.php?id=18983\"&gt;Colin  Boyd&lt;/a&gt;&lt;br/&gt;&lt;/p&gt;</td>\n",
       "      <td>No students known.</td>\n",
       "      <td>&lt;p style=\"text-align: center; margin-top: 0; margin-bottom: 0px; font-size: small\"&gt;\\n&lt;/p&gt;</td>\n",
       "      <td>Ph.D.</td>\n",
       "      <td>Queensland University of Technology</td>\n",
       "      <td>Australia</td>\n",
       "      <td>200</td>\n",
       "    </tr>\n",
       "    <tr>\n",
       "      <th>201288</th>\n",
       "      <td>\\nGregory  Chioniadis</td>\n",
       "      <td>&lt;div style=\"line-height: 30px; text-align: center; margin-bottom: 1ex\"&gt;\\n&lt;span style=\"margin-right: 0.5em\"&gt; &lt;span style=\"color:\\n  #006633; margin-left: 0.5em\"&gt;Ilkhans Court at Tabriz&lt;/span&gt; 1296&lt;/span&gt;\\n&lt;img alt=\"Iran\" height=\"30\" src=\"img/flags/Iran.gif\" style=\"border: 0; vertical-align: middle\" title=\"Iran\" width=\"52\"/&gt;\\n&lt;/div&gt;</td>\n",
       "      <td></td>\n",
       "      <td>Mathematics Subject Classification: 85—Astronomy and astrophysics</td>\n",
       "      <td>&lt;p style=\"text-align: center; line-height: 2.75ex\"&gt;Advisor 1: &lt;a href=\"id.php?id=204293\"&gt;Shams al‐Dīn  al‐Bukhārī&lt;/a&gt;&lt;br/&gt;&lt;/p&gt;</td>\n",
       "      <td>According to our current on-line database, Gregory Chioniadis has 1 student and 169052  descendants.\\n\\nWe welcome any additional information.</td>\n",
       "      <td>&lt;p style=\"text-align: center; margin-top: 0; margin-bottom: 0px; font-size: small\"&gt;\\n&lt;/p&gt;</td>\n",
       "      <td></td>\n",
       "      <td>Ilkhans Court at Tabriz</td>\n",
       "      <td>Iran</td>\n",
       "      <td>1296</td>\n",
       "    </tr>\n",
       "    <tr>\n",
       "      <th>184631</th>\n",
       "      <td>\\nTheodore  Metochites</td>\n",
       "      <td>&lt;div style=\"line-height: 30px; text-align: center; margin-bottom: 1ex\"&gt;\\n&lt;span style=\"margin-right: 0.5em\"&gt; &lt;span style=\"color:\\n  #006633; margin-left: 0.5em\"&gt;&lt;/span&gt; 1315&lt;/span&gt;\\n&lt;/div&gt;</td>\n",
       "      <td></td>\n",
       "      <td>Mathematics Subject Classification: 00—General</td>\n",
       "      <td>&lt;p style=\"text-align: center; line-height: 2.75ex\"&gt;Advisor 1: &lt;a href=\"id.php?id=184632\"&gt;Manuel  Bryennios&lt;/a&gt;&lt;br/&gt;&lt;/p&gt;</td>\n",
       "      <td>According to our current on-line database, Theodore Metochites has 2 students and 169050  descendants.\\n\\nWe welcome any additional information.</td>\n",
       "      <td>&lt;p style=\"text-align: center; margin-top: 0; margin-bottom: 0px; font-size: small\"&gt;\\n&lt;/p&gt;</td>\n",
       "      <td></td>\n",
       "      <td></td>\n",
       "      <td>Unknown</td>\n",
       "      <td>1315</td>\n",
       "    </tr>\n",
       "  </tbody>\n",
       "</table>\n",
       "</div>"
      ],
      "text/plain": [
       "                             Name  \\\n",
       "MGP_ID                              \n",
       "259778     \\nPedro Toniol Cardin    \n",
       "254024  \\nMohammad Esmael  Samei    \n",
       "261324           \\nJaimee  Brown    \n",
       "201288     \\nGregory  Chioniadis    \n",
       "184631    \\nTheodore  Metochites    \n",
       "\n",
       "                                                                                                                                                                                                                                                                                                                                                                                   Degree_Info  \\\n",
       "MGP_ID                                                                                                                                                                                                                                                                                                                                                                                           \n",
       "259778  <div style=\"line-height: 30px; text-align: center; margin-bottom: 1ex\">\\n<span style=\"margin-right: 0.5em\">Ph.D. <span style=\"color:\\n  #006633; margin-left: 0.5em\">Universidade Estadual Paulista \"Júlio de Mesquita Filho\"</span> 20</span>\\n<img alt=\"Brazil\" height=\"30\" src=\"img/flags/Brazil.gif\" style=\"border: 0; vertical-align: middle\" title=\"Brazil\" width=\"43\"/>\\n</div>   \n",
       "254024                                                                                                                                                                                          <div style=\"line-height: 30px; text-align: center; margin-bottom: 1ex\">\\n<span style=\"margin-right: 0.5em\">Ph.D. <span style=\"color:\\n  #006633; margin-left: 0.5em\"></span> 43</span>\\n</div>   \n",
       "261324             <div style=\"line-height: 30px; text-align: center; margin-bottom: 1ex\">\\n<span style=\"margin-right: 0.5em\">Ph.D. <span style=\"color:\\n  #006633; margin-left: 0.5em\">Queensland University of Technology</span> 200</span>\\n<img alt=\"Australia\" height=\"30\" src=\"img/flags/Australia.gif\" style=\"border: 0; vertical-align: middle\" title=\"Australia\" width=\"60\"/>\\n</div>   \n",
       "201288                                            <div style=\"line-height: 30px; text-align: center; margin-bottom: 1ex\">\\n<span style=\"margin-right: 0.5em\"> <span style=\"color:\\n  #006633; margin-left: 0.5em\">Ilkhans Court at Tabriz</span> 1296</span>\\n<img alt=\"Iran\" height=\"30\" src=\"img/flags/Iran.gif\" style=\"border: 0; vertical-align: middle\" title=\"Iran\" width=\"52\"/>\\n</div>   \n",
       "184631                                                                                                                                                                                             <div style=\"line-height: 30px; text-align: center; margin-bottom: 1ex\">\\n<span style=\"margin-right: 0.5em\"> <span style=\"color:\\n  #006633; margin-left: 0.5em\"></span> 1315</span>\\n</div>   \n",
       "\n",
       "                                                                                                                   Thesis  \\\n",
       "MGP_ID                                                                                                                      \n",
       "259778                                                           Equações com impasse e problemas de perturbação singular   \n",
       "254024  Fixed points of $\\alpha$-$\\psi$-contractive type mappings and multifunctions on intuitionistic fuzzy metric space   \n",
       "261324                                                   Secure public-key encryption from factorisation-related problems   \n",
       "201288                                                                                                                      \n",
       "184631                                                                                                                      \n",
       "\n",
       "                                                                                MSC  \\\n",
       "MGP_ID                                                                                \n",
       "259778  Mathematics Subject Classification: 37—Dynamical systems and ergodic theory   \n",
       "254024                   Mathematics Subject Classification: 46—Functional analysis   \n",
       "261324                      Mathematics Subject Classification: 68—Computer science   \n",
       "201288            Mathematics Subject Classification: 85—Astronomy and astrophysics   \n",
       "184631                               Mathematics Subject Classification: 00—General   \n",
       "\n",
       "                                                                                                                                                                                    Advisor  \\\n",
       "MGP_ID                                                                                                                                                                                        \n",
       "259778                                                        <p style=\"text-align: center; line-height: 2.75ex\">Advisor 1: <a href=\"id.php?id=170285\">Paulo Ricardo  da Silva</a><br/></p>   \n",
       "254024                                                               <p style=\"text-align: center; line-height: 2.75ex\">Advisor 1: <a href=\"id.php?id=140610\">Sharam  Rezapour</a><br/></p>   \n",
       "261324  <p style=\"text-align: center; line-height: 2.75ex\">Advisor 1: <a href=\"id.php?id=261313\">Juan  Gonzalez Nieto</a><br/>Advisor 2: <a href=\"id.php?id=18983\">Colin  Boyd</a><br/></p>   \n",
       "201288                                                       <p style=\"text-align: center; line-height: 2.75ex\">Advisor 1: <a href=\"id.php?id=204293\">Shams al‐Dīn  al‐Bukhārī</a><br/></p>   \n",
       "184631                                                              <p style=\"text-align: center; line-height: 2.75ex\">Advisor 1: <a href=\"id.php?id=184632\">Manuel  Bryennios</a><br/></p>   \n",
       "\n",
       "                                                                                                                                             Descendants  \\\n",
       "MGP_ID                                                                                                                                                     \n",
       "259778                                                                                                                                No students known.   \n",
       "254024                                                                                                                                No students known.   \n",
       "261324                                                                                                                                No students known.   \n",
       "201288    According to our current on-line database, Gregory Chioniadis has 1 student and 169052  descendants.\\n\\nWe welcome any additional information.   \n",
       "184631  According to our current on-line database, Theodore Metochites has 2 students and 169050  descendants.\\n\\nWe welcome any additional information.   \n",
       "\n",
       "                                                                                                                                                                     MScNID  \\\n",
       "MGP_ID                                                                                                                                                                        \n",
       "259778  <p style=\"text-align: center; margin-top: 0; margin-bottom: 0px; font-size: small\">\\n<a href=\"http://www.ams.org/mathscinet/MRAuthorID/956004\">MathSciNet</a>\\n</p>   \n",
       "254024                                                                            <p style=\"text-align: center; margin-top: 0; margin-bottom: 0px; font-size: small\">\\n</p>   \n",
       "261324                                                                            <p style=\"text-align: center; margin-top: 0; margin-bottom: 0px; font-size: small\">\\n</p>   \n",
       "201288                                                                            <p style=\"text-align: center; margin-top: 0; margin-bottom: 0px; font-size: small\">\\n</p>   \n",
       "184631                                                                            <p style=\"text-align: center; margin-top: 0; margin-bottom: 0px; font-size: small\">\\n</p>   \n",
       "\n",
       "        Degree                                                    School  \\\n",
       "MGP_ID                                                                     \n",
       "259778  Ph.D.   Universidade Estadual Paulista \"Júlio de Mesquita Filho\"   \n",
       "254024  Ph.D.                                                              \n",
       "261324  Ph.D.                        Queensland University of Technology   \n",
       "201288                                           Ilkhans Court at Tabriz   \n",
       "184631                                                                     \n",
       "\n",
       "          Country  Year  \n",
       "MGP_ID                   \n",
       "259778     Brazil    20  \n",
       "254024    Unknown    43  \n",
       "261324  Australia   200  \n",
       "201288       Iran  1296  \n",
       "184631    Unknown  1315  "
      ]
     },
     "execution_count": 35,
     "metadata": {},
     "output_type": "execute_result"
    }
   ],
   "source": [
    "# sort by year to find weird year values\n",
    "\n",
    "df[df['Year']>0].sort_values('Year').head()"
   ]
  },
  {
   "cell_type": "markdown",
   "metadata": {},
   "source": [
    "IDs 259778, 254024, 261324 have incorrect years"
   ]
  },
  {
   "cell_type": "code",
   "execution_count": 36,
   "metadata": {},
   "outputs": [],
   "source": [
    "# fixing it\n",
    "\n",
    "df.loc[235671, 'Year'] = 2018\n",
    "df.loc[252420, 'Year'] = 2017\n",
    "df.loc[238848, 'Year'] = 2012\n",
    "df.loc[261324, 'Year'] = 2007\n",
    "df.loc[254024, 'Year'] = 2013\n",
    "df.loc[259778, 'Year'] = 2011"
   ]
  },
  {
   "cell_type": "code",
   "execution_count": 37,
   "metadata": {},
   "outputs": [],
   "source": [
    "# ID 254349 has a future degree year, and we are only interested in current PhDs\n",
    "df.drop(254349, inplace=True)"
   ]
  },
  {
   "cell_type": "code",
   "execution_count": 38,
   "metadata": {},
   "outputs": [],
   "source": [
    "#df[df['Year'] >0].sort_values('Year', ascending = False).head(30)"
   ]
  },
  {
   "cell_type": "markdown",
   "metadata": {},
   "source": [
    "### 1.6. Getting MSC number<a id='1.6._Getting_MSC_number'></a>"
   ]
  },
  {
   "cell_type": "markdown",
   "metadata": {},
   "source": [
    "Isolating the MSC number:"
   ]
  },
  {
   "cell_type": "code",
   "execution_count": 39,
   "metadata": {},
   "outputs": [],
   "source": [
    "def extract_msc(x):\n",
    "    if x != 'No MSC given':\n",
    "        return '%s' %(x.split(': ')[-1].split('—')[0])\n",
    "    else:\n",
    "        return np.nan\n",
    "\n"
   ]
  },
  {
   "cell_type": "code",
   "execution_count": 40,
   "metadata": {},
   "outputs": [],
   "source": [
    "df['msc'] = df['MSC'].apply(extract_msc)"
   ]
  },
  {
   "cell_type": "markdown",
   "metadata": {},
   "source": [
    "### 1.7. Extracting Advisor Data<a id='1.7._Extracting_Advisor_Data'></a>"
   ]
  },
  {
   "cell_type": "code",
   "execution_count": 41,
   "metadata": {},
   "outputs": [
    {
     "data": {
      "text/plain": [
       "(41892, 12)"
      ]
     },
     "execution_count": 41,
     "metadata": {},
     "output_type": "execute_result"
    }
   ],
   "source": [
    "df[df['Advisor'].str.contains('Advisor 2')].shape"
   ]
  },
  {
   "cell_type": "markdown",
   "metadata": {},
   "source": [
    "At least 41892 records with two advisors"
   ]
  },
  {
   "cell_type": "code",
   "execution_count": 42,
   "metadata": {},
   "outputs": [
    {
     "data": {
      "text/plain": [
       "(2688, 12)"
      ]
     },
     "execution_count": 42,
     "metadata": {},
     "output_type": "execute_result"
    }
   ],
   "source": [
    "df[df['Advisor'].str.contains('Advisor 3')].shape"
   ]
  },
  {
   "cell_type": "markdown",
   "metadata": {},
   "source": [
    "At least 2688 records with three advisors"
   ]
  },
  {
   "cell_type": "code",
   "execution_count": 43,
   "metadata": {},
   "outputs": [
    {
     "data": {
      "text/plain": [
       "(207, 12)"
      ]
     },
     "execution_count": 43,
     "metadata": {},
     "output_type": "execute_result"
    }
   ],
   "source": [
    "df[df['Advisor'].str.contains('Advisor 4')].shape"
   ]
  },
  {
   "cell_type": "markdown",
   "metadata": {},
   "source": [
    "At least 207 rows with four advisors"
   ]
  },
  {
   "cell_type": "code",
   "execution_count": 44,
   "metadata": {},
   "outputs": [
    {
     "data": {
      "text/plain": [
       "(17, 12)"
      ]
     },
     "execution_count": 44,
     "metadata": {},
     "output_type": "execute_result"
    }
   ],
   "source": [
    "df[df['Advisor'].str.contains('Advisor 5')].shape"
   ]
  },
  {
   "cell_type": "markdown",
   "metadata": {},
   "source": [
    "At least 17 records with five advisors"
   ]
  },
  {
   "cell_type": "code",
   "execution_count": 45,
   "metadata": {},
   "outputs": [
    {
     "data": {
      "text/plain": [
       "(2, 12)"
      ]
     },
     "execution_count": 45,
     "metadata": {},
     "output_type": "execute_result"
    }
   ],
   "source": [
    "df[df['Advisor'].str.contains('Advisor 6')].shape"
   ]
  },
  {
   "cell_type": "markdown",
   "metadata": {},
   "source": [
    "At least 2 records with six(!!) advisors"
   ]
  },
  {
   "cell_type": "markdown",
   "metadata": {},
   "source": [
    "First getting number of advisors."
   ]
  },
  {
   "cell_type": "code",
   "execution_count": 46,
   "metadata": {},
   "outputs": [],
   "source": [
    "def num_ad(x):\n",
    "    return len(x.split('id=')) - 1\n",
    "\n",
    "# number of advisors column\n",
    "\n",
    "\n",
    "df['Num_advisors'] = df['Advisor'].apply(num_ad)"
   ]
  },
  {
   "cell_type": "markdown",
   "metadata": {},
   "source": [
    "Extracting Advisor Names and IDs using lambda functions."
   ]
  },
  {
   "cell_type": "code",
   "execution_count": 47,
   "metadata": {},
   "outputs": [],
   "source": [
    "# advisor names\n",
    "\n",
    "for i in range(1,7):\n",
    "    df['Advisor_%s_Name'%(i)] = df['Advisor'].apply(lambda C: C.split('id=')[i].split('\">')[1].split('</a')[0] \n",
    "                                if num_ad(C)>= i\n",
    "                                else None)\n",
    "    \n",
    "    df['Advisor_%s_MGP_ID'%(i)] = df['Advisor'].apply(lambda C: C.split('id=')[i].split('\">')[0]\n",
    "                                if num_ad(C) >= i\n",
    "                                else '0').apply(int)"
   ]
  },
  {
   "cell_type": "markdown",
   "metadata": {},
   "source": [
    "### 1.8. Getting students and descendants counts<a id='1.8._Getting_students_and_descendants_counts'></a>"
   ]
  },
  {
   "cell_type": "code",
   "execution_count": 48,
   "metadata": {},
   "outputs": [],
   "source": [
    "# number of students\n",
    "\n",
    "df['num_students'] = df.apply(lambda D: 0 if D['Descendants'] == 'No students known.'\n",
    "                              else D['Descendants'].split('has ')[-1].split(' student')[0], axis = 1)\n",
    "\n"
   ]
  },
  {
   "cell_type": "code",
   "execution_count": 49,
   "metadata": {},
   "outputs": [],
   "source": [
    "df['num_students'] = df['num_students'].apply(str)"
   ]
  },
  {
   "cell_type": "code",
   "execution_count": 50,
   "metadata": {},
   "outputs": [
    {
     "data": {
      "text/html": [
       "<div>\n",
       "<style scoped>\n",
       "    .dataframe tbody tr th:only-of-type {\n",
       "        vertical-align: middle;\n",
       "    }\n",
       "\n",
       "    .dataframe tbody tr th {\n",
       "        vertical-align: top;\n",
       "    }\n",
       "\n",
       "    .dataframe thead th {\n",
       "        text-align: right;\n",
       "    }\n",
       "</style>\n",
       "<table border=\"1\" class=\"dataframe\">\n",
       "  <thead>\n",
       "    <tr style=\"text-align: right;\">\n",
       "      <th></th>\n",
       "      <th>Name</th>\n",
       "      <th>Degree_Info</th>\n",
       "      <th>Thesis</th>\n",
       "      <th>MSC</th>\n",
       "      <th>Advisor</th>\n",
       "      <th>Descendants</th>\n",
       "      <th>MScNID</th>\n",
       "      <th>Degree</th>\n",
       "      <th>School</th>\n",
       "      <th>Country</th>\n",
       "      <th>Year</th>\n",
       "      <th>msc</th>\n",
       "      <th>Num_advisors</th>\n",
       "      <th>Advisor_1_Name</th>\n",
       "      <th>Advisor_1_MGP_ID</th>\n",
       "      <th>Advisor_2_Name</th>\n",
       "      <th>Advisor_2_MGP_ID</th>\n",
       "      <th>Advisor_3_Name</th>\n",
       "      <th>Advisor_3_MGP_ID</th>\n",
       "      <th>Advisor_4_Name</th>\n",
       "      <th>Advisor_4_MGP_ID</th>\n",
       "      <th>Advisor_5_Name</th>\n",
       "      <th>Advisor_5_MGP_ID</th>\n",
       "      <th>Advisor_6_Name</th>\n",
       "      <th>Advisor_6_MGP_ID</th>\n",
       "      <th>num_students</th>\n",
       "    </tr>\n",
       "    <tr>\n",
       "      <th>MGP_ID</th>\n",
       "      <th></th>\n",
       "      <th></th>\n",
       "      <th></th>\n",
       "      <th></th>\n",
       "      <th></th>\n",
       "      <th></th>\n",
       "      <th></th>\n",
       "      <th></th>\n",
       "      <th></th>\n",
       "      <th></th>\n",
       "      <th></th>\n",
       "      <th></th>\n",
       "      <th></th>\n",
       "      <th></th>\n",
       "      <th></th>\n",
       "      <th></th>\n",
       "      <th></th>\n",
       "      <th></th>\n",
       "      <th></th>\n",
       "      <th></th>\n",
       "      <th></th>\n",
       "      <th></th>\n",
       "      <th></th>\n",
       "      <th></th>\n",
       "      <th></th>\n",
       "      <th></th>\n",
       "    </tr>\n",
       "  </thead>\n",
       "  <tbody>\n",
       "    <tr>\n",
       "      <th>182831</th>\n",
       "      <td>\\nWilliam  Cousins</td>\n",
       "      <td>&lt;div style=\"line-height: 30px; text-align: center; margin-bottom: 1ex\"&gt;\\n&lt;span style=\"margin-right: 0.5em\"&gt;Ph.D. &lt;span style=\"color:\\n  #006633; margin-left: 0.5em\"&gt;North Carolina State University&lt;/span&gt; 2013&lt;/span&gt;\\n&lt;img alt=\"UnitedStates\" height=\"30\" src=\"img/flags/UnitedStates.gif\" style=\"border: 0; vertical-align: middle\" title=\"UnitedStates\" width=\"57\"/&gt;\\n&lt;/div&gt;</td>\n",
       "      <td>Boundary Conditions and Uncertainty Quantifications for\\r\\nHemodynamics</td>\n",
       "      <td>No MSC given</td>\n",
       "      <td>&lt;p style=\"text-align: center; line-height: 2.75ex\"&gt;Advisor 1: &lt;a href=\"id.php?id=45654\"&gt;Pierre-Alain  Gremaud&lt;/a&gt;&lt;br/&gt;&lt;/p&gt;</td>\n",
       "      <td>Dissertation: \\n\\nBoundary Conditions and Uncertainty Quantifications for\\r\\nHemodynamics</td>\n",
       "      <td>&lt;p style=\"text-align: center; margin-top: 0; margin-bottom: 0px; font-size: small\"&gt;\\n&lt;a href=\"http://www.ams.org/mathscinet/MRAuthorID/988642\"&gt;MathSciNet&lt;/a&gt;\\n&lt;/p&gt;</td>\n",
       "      <td>Ph.D.</td>\n",
       "      <td>North Carolina State University</td>\n",
       "      <td>UnitedStates</td>\n",
       "      <td>2013</td>\n",
       "      <td>NaN</td>\n",
       "      <td>1</td>\n",
       "      <td>Pierre-Alain  Gremaud</td>\n",
       "      <td>45654</td>\n",
       "      <td>None</td>\n",
       "      <td>0</td>\n",
       "      <td>None</td>\n",
       "      <td>0</td>\n",
       "      <td>None</td>\n",
       "      <td>0</td>\n",
       "      <td>None</td>\n",
       "      <td>0</td>\n",
       "      <td>None</td>\n",
       "      <td>0</td>\n",
       "      <td>Dissertation: \\n\\nBoundary Conditions and Uncertainty Quantifications for\\r\\nHemodynamics</td>\n",
       "    </tr>\n",
       "  </tbody>\n",
       "</table>\n",
       "</div>"
      ],
      "text/plain": [
       "                       Name  \\\n",
       "MGP_ID                        \n",
       "182831  \\nWilliam  Cousins    \n",
       "\n",
       "                                                                                                                                                                                                                                                                                                                                                                              Degree_Info  \\\n",
       "MGP_ID                                                                                                                                                                                                                                                                                                                                                                                      \n",
       "182831  <div style=\"line-height: 30px; text-align: center; margin-bottom: 1ex\">\\n<span style=\"margin-right: 0.5em\">Ph.D. <span style=\"color:\\n  #006633; margin-left: 0.5em\">North Carolina State University</span> 2013</span>\\n<img alt=\"UnitedStates\" height=\"30\" src=\"img/flags/UnitedStates.gif\" style=\"border: 0; vertical-align: middle\" title=\"UnitedStates\" width=\"57\"/>\\n</div>   \n",
       "\n",
       "                                                                         Thesis  \\\n",
       "MGP_ID                                                                            \n",
       "182831  Boundary Conditions and Uncertainty Quantifications for\\r\\nHemodynamics   \n",
       "\n",
       "                 MSC  \\\n",
       "MGP_ID                 \n",
       "182831  No MSC given   \n",
       "\n",
       "                                                                                                                           Advisor  \\\n",
       "MGP_ID                                                                                                                               \n",
       "182831  <p style=\"text-align: center; line-height: 2.75ex\">Advisor 1: <a href=\"id.php?id=45654\">Pierre-Alain  Gremaud</a><br/></p>   \n",
       "\n",
       "                                                                                      Descendants  \\\n",
       "MGP_ID                                                                                              \n",
       "182831  Dissertation: \\n\\nBoundary Conditions and Uncertainty Quantifications for\\r\\nHemodynamics   \n",
       "\n",
       "                                                                                                                                                                     MScNID  \\\n",
       "MGP_ID                                                                                                                                                                        \n",
       "182831  <p style=\"text-align: center; margin-top: 0; margin-bottom: 0px; font-size: small\">\\n<a href=\"http://www.ams.org/mathscinet/MRAuthorID/988642\">MathSciNet</a>\\n</p>   \n",
       "\n",
       "        Degree                           School       Country  Year  msc  \\\n",
       "MGP_ID                                                                     \n",
       "182831  Ph.D.   North Carolina State University  UnitedStates  2013  NaN   \n",
       "\n",
       "        Num_advisors         Advisor_1_Name  Advisor_1_MGP_ID Advisor_2_Name  \\\n",
       "MGP_ID                                                                         \n",
       "182831             1  Pierre-Alain  Gremaud             45654           None   \n",
       "\n",
       "        Advisor_2_MGP_ID Advisor_3_Name  Advisor_3_MGP_ID Advisor_4_Name  \\\n",
       "MGP_ID                                                                     \n",
       "182831                 0           None                 0           None   \n",
       "\n",
       "        Advisor_4_MGP_ID Advisor_5_Name  Advisor_5_MGP_ID Advisor_6_Name  \\\n",
       "MGP_ID                                                                     \n",
       "182831                 0           None                 0           None   \n",
       "\n",
       "        Advisor_6_MGP_ID  \\\n",
       "MGP_ID                     \n",
       "182831                 0   \n",
       "\n",
       "                                                                                     num_students  \n",
       "MGP_ID                                                                                             \n",
       "182831  Dissertation: \\n\\nBoundary Conditions and Uncertainty Quantifications for\\r\\nHemodynamics  "
      ]
     },
     "execution_count": 50,
     "metadata": {},
     "output_type": "execute_result"
    }
   ],
   "source": [
    "df[~df['num_students'].str.isdigit()]"
   ]
  },
  {
   "cell_type": "code",
   "execution_count": 51,
   "metadata": {},
   "outputs": [],
   "source": [
    "df.loc[182831,'num_students'] = '0'"
   ]
  },
  {
   "cell_type": "code",
   "execution_count": 52,
   "metadata": {},
   "outputs": [],
   "source": [
    "df['num_students'] = df['num_students'].apply(int)"
   ]
  },
  {
   "cell_type": "code",
   "execution_count": 53,
   "metadata": {},
   "outputs": [],
   "source": [
    "# number of descendants\n",
    "\n",
    "df['num_descendants'] = df.apply(lambda D: 0 if D['Descendants'] == 'No students known.'\n",
    "                              else D['Descendants'].split('and ')[-1].split(' desc')[0], axis = 1)"
   ]
  },
  {
   "cell_type": "code",
   "execution_count": 54,
   "metadata": {
    "scrolled": true
   },
   "outputs": [
    {
     "data": {
      "text/plain": [
       "(63263, 27)"
      ]
     },
     "execution_count": 54,
     "metadata": {},
     "output_type": "execute_result"
    }
   ],
   "source": [
    "df['num_descendants'] = df['num_descendants'].apply(str)\n",
    "df[~df['num_descendants'].str.isdigit()].shape"
   ]
  },
  {
   "cell_type": "code",
   "execution_count": 55,
   "metadata": {},
   "outputs": [
    {
     "data": {
      "text/plain": [
       "'3 '"
      ]
     },
     "execution_count": 55,
     "metadata": {},
     "output_type": "execute_result"
    }
   ],
   "source": [
    "df.loc[1,'num_descendants']"
   ]
  },
  {
   "cell_type": "code",
   "execution_count": 56,
   "metadata": {},
   "outputs": [],
   "source": [
    "df['num_descendants'] = df['num_descendants'].str.strip(' ')"
   ]
  },
  {
   "cell_type": "code",
   "execution_count": 57,
   "metadata": {},
   "outputs": [
    {
     "data": {
      "text/html": [
       "<div>\n",
       "<style scoped>\n",
       "    .dataframe tbody tr th:only-of-type {\n",
       "        vertical-align: middle;\n",
       "    }\n",
       "\n",
       "    .dataframe tbody tr th {\n",
       "        vertical-align: top;\n",
       "    }\n",
       "\n",
       "    .dataframe thead th {\n",
       "        text-align: right;\n",
       "    }\n",
       "</style>\n",
       "<table border=\"1\" class=\"dataframe\">\n",
       "  <thead>\n",
       "    <tr style=\"text-align: right;\">\n",
       "      <th></th>\n",
       "      <th>Name</th>\n",
       "      <th>Degree_Info</th>\n",
       "      <th>Thesis</th>\n",
       "      <th>MSC</th>\n",
       "      <th>Advisor</th>\n",
       "      <th>Descendants</th>\n",
       "      <th>MScNID</th>\n",
       "      <th>Degree</th>\n",
       "      <th>School</th>\n",
       "      <th>Country</th>\n",
       "      <th>Year</th>\n",
       "      <th>msc</th>\n",
       "      <th>Num_advisors</th>\n",
       "      <th>Advisor_1_Name</th>\n",
       "      <th>Advisor_1_MGP_ID</th>\n",
       "      <th>Advisor_2_Name</th>\n",
       "      <th>Advisor_2_MGP_ID</th>\n",
       "      <th>Advisor_3_Name</th>\n",
       "      <th>Advisor_3_MGP_ID</th>\n",
       "      <th>Advisor_4_Name</th>\n",
       "      <th>Advisor_4_MGP_ID</th>\n",
       "      <th>Advisor_5_Name</th>\n",
       "      <th>Advisor_5_MGP_ID</th>\n",
       "      <th>Advisor_6_Name</th>\n",
       "      <th>Advisor_6_MGP_ID</th>\n",
       "      <th>num_students</th>\n",
       "      <th>num_descendants</th>\n",
       "    </tr>\n",
       "    <tr>\n",
       "      <th>MGP_ID</th>\n",
       "      <th></th>\n",
       "      <th></th>\n",
       "      <th></th>\n",
       "      <th></th>\n",
       "      <th></th>\n",
       "      <th></th>\n",
       "      <th></th>\n",
       "      <th></th>\n",
       "      <th></th>\n",
       "      <th></th>\n",
       "      <th></th>\n",
       "      <th></th>\n",
       "      <th></th>\n",
       "      <th></th>\n",
       "      <th></th>\n",
       "      <th></th>\n",
       "      <th></th>\n",
       "      <th></th>\n",
       "      <th></th>\n",
       "      <th></th>\n",
       "      <th></th>\n",
       "      <th></th>\n",
       "      <th></th>\n",
       "      <th></th>\n",
       "      <th></th>\n",
       "      <th></th>\n",
       "      <th></th>\n",
       "    </tr>\n",
       "  </thead>\n",
       "  <tbody>\n",
       "    <tr>\n",
       "      <th>182831</th>\n",
       "      <td>\\nWilliam  Cousins</td>\n",
       "      <td>&lt;div style=\"line-height: 30px; text-align: center; margin-bottom: 1ex\"&gt;\\n&lt;span style=\"margin-right: 0.5em\"&gt;Ph.D. &lt;span style=\"color:\\n  #006633; margin-left: 0.5em\"&gt;North Carolina State University&lt;/span&gt; 2013&lt;/span&gt;\\n&lt;img alt=\"UnitedStates\" height=\"30\" src=\"img/flags/UnitedStates.gif\" style=\"border: 0; vertical-align: middle\" title=\"UnitedStates\" width=\"57\"/&gt;\\n&lt;/div&gt;</td>\n",
       "      <td>Boundary Conditions and Uncertainty Quantifications for\\r\\nHemodynamics</td>\n",
       "      <td>No MSC given</td>\n",
       "      <td>&lt;p style=\"text-align: center; line-height: 2.75ex\"&gt;Advisor 1: &lt;a href=\"id.php?id=45654\"&gt;Pierre-Alain  Gremaud&lt;/a&gt;&lt;br/&gt;&lt;/p&gt;</td>\n",
       "      <td>Dissertation: \\n\\nBoundary Conditions and Uncertainty Quantifications for\\r\\nHemodynamics</td>\n",
       "      <td>&lt;p style=\"text-align: center; margin-top: 0; margin-bottom: 0px; font-size: small\"&gt;\\n&lt;a href=\"http://www.ams.org/mathscinet/MRAuthorID/988642\"&gt;MathSciNet&lt;/a&gt;\\n&lt;/p&gt;</td>\n",
       "      <td>Ph.D.</td>\n",
       "      <td>North Carolina State University</td>\n",
       "      <td>UnitedStates</td>\n",
       "      <td>2013</td>\n",
       "      <td>NaN</td>\n",
       "      <td>1</td>\n",
       "      <td>Pierre-Alain  Gremaud</td>\n",
       "      <td>45654</td>\n",
       "      <td>None</td>\n",
       "      <td>0</td>\n",
       "      <td>None</td>\n",
       "      <td>0</td>\n",
       "      <td>None</td>\n",
       "      <td>0</td>\n",
       "      <td>None</td>\n",
       "      <td>0</td>\n",
       "      <td>None</td>\n",
       "      <td>0</td>\n",
       "      <td>0</td>\n",
       "      <td>Uncertainty Quantifications for\\r\\nHemodynamics</td>\n",
       "    </tr>\n",
       "  </tbody>\n",
       "</table>\n",
       "</div>"
      ],
      "text/plain": [
       "                       Name  \\\n",
       "MGP_ID                        \n",
       "182831  \\nWilliam  Cousins    \n",
       "\n",
       "                                                                                                                                                                                                                                                                                                                                                                              Degree_Info  \\\n",
       "MGP_ID                                                                                                                                                                                                                                                                                                                                                                                      \n",
       "182831  <div style=\"line-height: 30px; text-align: center; margin-bottom: 1ex\">\\n<span style=\"margin-right: 0.5em\">Ph.D. <span style=\"color:\\n  #006633; margin-left: 0.5em\">North Carolina State University</span> 2013</span>\\n<img alt=\"UnitedStates\" height=\"30\" src=\"img/flags/UnitedStates.gif\" style=\"border: 0; vertical-align: middle\" title=\"UnitedStates\" width=\"57\"/>\\n</div>   \n",
       "\n",
       "                                                                         Thesis  \\\n",
       "MGP_ID                                                                            \n",
       "182831  Boundary Conditions and Uncertainty Quantifications for\\r\\nHemodynamics   \n",
       "\n",
       "                 MSC  \\\n",
       "MGP_ID                 \n",
       "182831  No MSC given   \n",
       "\n",
       "                                                                                                                           Advisor  \\\n",
       "MGP_ID                                                                                                                               \n",
       "182831  <p style=\"text-align: center; line-height: 2.75ex\">Advisor 1: <a href=\"id.php?id=45654\">Pierre-Alain  Gremaud</a><br/></p>   \n",
       "\n",
       "                                                                                      Descendants  \\\n",
       "MGP_ID                                                                                              \n",
       "182831  Dissertation: \\n\\nBoundary Conditions and Uncertainty Quantifications for\\r\\nHemodynamics   \n",
       "\n",
       "                                                                                                                                                                     MScNID  \\\n",
       "MGP_ID                                                                                                                                                                        \n",
       "182831  <p style=\"text-align: center; margin-top: 0; margin-bottom: 0px; font-size: small\">\\n<a href=\"http://www.ams.org/mathscinet/MRAuthorID/988642\">MathSciNet</a>\\n</p>   \n",
       "\n",
       "        Degree                           School       Country  Year  msc  \\\n",
       "MGP_ID                                                                     \n",
       "182831  Ph.D.   North Carolina State University  UnitedStates  2013  NaN   \n",
       "\n",
       "        Num_advisors         Advisor_1_Name  Advisor_1_MGP_ID Advisor_2_Name  \\\n",
       "MGP_ID                                                                         \n",
       "182831             1  Pierre-Alain  Gremaud             45654           None   \n",
       "\n",
       "        Advisor_2_MGP_ID Advisor_3_Name  Advisor_3_MGP_ID Advisor_4_Name  \\\n",
       "MGP_ID                                                                     \n",
       "182831                 0           None                 0           None   \n",
       "\n",
       "        Advisor_4_MGP_ID Advisor_5_Name  Advisor_5_MGP_ID Advisor_6_Name  \\\n",
       "MGP_ID                                                                     \n",
       "182831                 0           None                 0           None   \n",
       "\n",
       "        Advisor_6_MGP_ID  num_students  \\\n",
       "MGP_ID                                   \n",
       "182831                 0             0   \n",
       "\n",
       "                                        num_descendants  \n",
       "MGP_ID                                                   \n",
       "182831  Uncertainty Quantifications for\\r\\nHemodynamics  "
      ]
     },
     "execution_count": 57,
     "metadata": {},
     "output_type": "execute_result"
    }
   ],
   "source": [
    "df[~df['num_descendants'].str.isdigit()]"
   ]
  },
  {
   "cell_type": "code",
   "execution_count": 58,
   "metadata": {},
   "outputs": [],
   "source": [
    "df.loc[182831,'num_descendants'] = '0'"
   ]
  },
  {
   "cell_type": "code",
   "execution_count": 59,
   "metadata": {},
   "outputs": [],
   "source": [
    "df['num_descendants'] = df['num_descendants'].apply(int)"
   ]
  },
  {
   "cell_type": "code",
   "execution_count": 60,
   "metadata": {},
   "outputs": [],
   "source": [
    "# recursive function to obtain set of ancestors for a record\n",
    "\n",
    "def ancestors(rec):\n",
    "    advisors = []\n",
    "    for i in range(1,7):\n",
    "        adv = df.loc[rec, 'Advisor_%s_MGP_ID'%(i)]\n",
    "        if adv != 0:\n",
    "            advisors.append(adv)\n",
    "        else:\n",
    "            continue\n",
    "    \n",
    "    if len(advisors) == 0:\n",
    "        return set()\n",
    "    else:\n",
    "        adset = set(advisors)\n",
    "        for adv in advisors:\n",
    "            adset = adset.union(ancestors(adv))\n",
    "        return adset\n",
    "    \n",
    "def anc_names(rec):\n",
    "    anset = set()\n",
    "    for anc in ancestors(rec):\n",
    "        anset.add(df.loc[anc, 'Name'])\n",
    "    print('Ancestors of ', df.loc[rec, 'Name'], 'are: ', anset, '\\nNumber of ancestors is ', len(anset))\n",
    "    return anset\n",
    "    \n",
    "    "
   ]
  },
  {
   "cell_type": "code",
   "execution_count": 61,
   "metadata": {},
   "outputs": [],
   "source": [
    "def students(rec):\n",
    "    stset = []\n",
    "    for j in range(1,7):\n",
    "        for stu in df[df['Advisor_%s_MGP_ID'%(j)] == rec].index:\n",
    "            stset.append(stu)\n",
    "    return set(stset)"
   ]
  },
  {
   "cell_type": "code",
   "execution_count": 62,
   "metadata": {},
   "outputs": [],
   "source": [
    "def st_names(rec):\n",
    "    names = set()\n",
    "    for id in students(rec):\n",
    "        names.add(df.loc[id,'Name'])\n",
    "    print(df.loc[rec,'Name'], ' has ', len(names), ' students with names: ', names)\n",
    "    return names"
   ]
  },
  {
   "cell_type": "code",
   "execution_count": 63,
   "metadata": {},
   "outputs": [],
   "source": [
    "#depth first search for descendants\n",
    "\n",
    "def desc_DFS(rec, series):\n",
    "    series[rec] = True\n",
    "    for v in students(rec):\n",
    "        if series[v] == False:\n",
    "            desc_DFS(v, series)\n",
    "    return df[series]['Name']\n",
    "    "
   ]
  },
  {
   "cell_type": "code",
   "execution_count": 64,
   "metadata": {},
   "outputs": [],
   "source": [
    "def descendants(rec):\n",
    "    D = desc_DFS(rec, pd.Series(False, index = df.index))\n",
    "    return D[D.index != rec]"
   ]
  },
  {
   "cell_type": "markdown",
   "metadata": {},
   "source": [
    "### 1.9. Cleaning up name column<a id='1.9._Cleaning_up_name_column'></a>"
   ]
  },
  {
   "cell_type": "code",
   "execution_count": 65,
   "metadata": {},
   "outputs": [],
   "source": [
    "# remove \\n from name column\n",
    "\n",
    "df['Name'] = df['Name'].str.strip('\\n')"
   ]
  },
  {
   "cell_type": "code",
   "execution_count": 66,
   "metadata": {},
   "outputs": [
    {
     "data": {
      "text/html": [
       "<div>\n",
       "<style scoped>\n",
       "    .dataframe tbody tr th:only-of-type {\n",
       "        vertical-align: middle;\n",
       "    }\n",
       "\n",
       "    .dataframe tbody tr th {\n",
       "        vertical-align: top;\n",
       "    }\n",
       "\n",
       "    .dataframe thead th {\n",
       "        text-align: right;\n",
       "    }\n",
       "</style>\n",
       "<table border=\"1\" class=\"dataframe\">\n",
       "  <thead>\n",
       "    <tr style=\"text-align: right;\">\n",
       "      <th></th>\n",
       "      <th>Name</th>\n",
       "      <th>Degree_Info</th>\n",
       "      <th>Thesis</th>\n",
       "      <th>MSC</th>\n",
       "      <th>Advisor</th>\n",
       "      <th>Descendants</th>\n",
       "      <th>MScNID</th>\n",
       "      <th>Degree</th>\n",
       "      <th>School</th>\n",
       "      <th>Country</th>\n",
       "      <th>Year</th>\n",
       "      <th>msc</th>\n",
       "      <th>Num_advisors</th>\n",
       "      <th>Advisor_1_Name</th>\n",
       "      <th>Advisor_1_MGP_ID</th>\n",
       "      <th>Advisor_2_Name</th>\n",
       "      <th>Advisor_2_MGP_ID</th>\n",
       "      <th>Advisor_3_Name</th>\n",
       "      <th>Advisor_3_MGP_ID</th>\n",
       "      <th>Advisor_4_Name</th>\n",
       "      <th>Advisor_4_MGP_ID</th>\n",
       "      <th>Advisor_5_Name</th>\n",
       "      <th>Advisor_5_MGP_ID</th>\n",
       "      <th>Advisor_6_Name</th>\n",
       "      <th>Advisor_6_MGP_ID</th>\n",
       "      <th>num_students</th>\n",
       "      <th>num_descendants</th>\n",
       "    </tr>\n",
       "    <tr>\n",
       "      <th>MGP_ID</th>\n",
       "      <th></th>\n",
       "      <th></th>\n",
       "      <th></th>\n",
       "      <th></th>\n",
       "      <th></th>\n",
       "      <th></th>\n",
       "      <th></th>\n",
       "      <th></th>\n",
       "      <th></th>\n",
       "      <th></th>\n",
       "      <th></th>\n",
       "      <th></th>\n",
       "      <th></th>\n",
       "      <th></th>\n",
       "      <th></th>\n",
       "      <th></th>\n",
       "      <th></th>\n",
       "      <th></th>\n",
       "      <th></th>\n",
       "      <th></th>\n",
       "      <th></th>\n",
       "      <th></th>\n",
       "      <th></th>\n",
       "      <th></th>\n",
       "      <th></th>\n",
       "      <th></th>\n",
       "      <th></th>\n",
       "    </tr>\n",
       "  </thead>\n",
       "  <tbody>\n",
       "    <tr>\n",
       "      <th>193664</th>\n",
       "      <td></td>\n",
       "      <td>&lt;div style=\"line-height: 30px; text-align: center; margin-bottom: 1ex\"&gt;\\n&lt;span style=\"margin-right: 0.5em\"&gt; &lt;span style=\"color:\\n  #006633; margin-left: 0.5em\"&gt;&lt;/span&gt; &lt;/span&gt;\\n&lt;/div&gt;</td>\n",
       "      <td></td>\n",
       "      <td>No MSC given</td>\n",
       "      <td>None</td>\n",
       "      <td>No students known.</td>\n",
       "      <td>&lt;p style=\"text-align: center; margin-top: 0; margin-bottom: 0px; font-size: small\"&gt;\\n&lt;/p&gt;</td>\n",
       "      <td></td>\n",
       "      <td></td>\n",
       "      <td>Unknown</td>\n",
       "      <td>0</td>\n",
       "      <td>NaN</td>\n",
       "      <td>0</td>\n",
       "      <td>None</td>\n",
       "      <td>0</td>\n",
       "      <td>None</td>\n",
       "      <td>0</td>\n",
       "      <td>None</td>\n",
       "      <td>0</td>\n",
       "      <td>None</td>\n",
       "      <td>0</td>\n",
       "      <td>None</td>\n",
       "      <td>0</td>\n",
       "      <td>None</td>\n",
       "      <td>0</td>\n",
       "      <td>0</td>\n",
       "      <td>0</td>\n",
       "    </tr>\n",
       "  </tbody>\n",
       "</table>\n",
       "</div>"
      ],
      "text/plain": [
       "       Name  \\\n",
       "MGP_ID        \n",
       "193664        \n",
       "\n",
       "                                                                                                                                                                                    Degree_Info  \\\n",
       "MGP_ID                                                                                                                                                                                            \n",
       "193664  <div style=\"line-height: 30px; text-align: center; margin-bottom: 1ex\">\\n<span style=\"margin-right: 0.5em\"> <span style=\"color:\\n  #006633; margin-left: 0.5em\"></span> </span>\\n</div>   \n",
       "\n",
       "       Thesis           MSC Advisor         Descendants  \\\n",
       "MGP_ID                                                    \n",
       "193664         No MSC given    None  No students known.   \n",
       "\n",
       "                                                                                           MScNID  \\\n",
       "MGP_ID                                                                                              \n",
       "193664  <p style=\"text-align: center; margin-top: 0; margin-bottom: 0px; font-size: small\">\\n</p>   \n",
       "\n",
       "       Degree School  Country  Year  msc  Num_advisors Advisor_1_Name  \\\n",
       "MGP_ID                                                                  \n",
       "193664                Unknown     0  NaN             0           None   \n",
       "\n",
       "        Advisor_1_MGP_ID Advisor_2_Name  Advisor_2_MGP_ID Advisor_3_Name  \\\n",
       "MGP_ID                                                                     \n",
       "193664                 0           None                 0           None   \n",
       "\n",
       "        Advisor_3_MGP_ID Advisor_4_Name  Advisor_4_MGP_ID Advisor_5_Name  \\\n",
       "MGP_ID                                                                     \n",
       "193664                 0           None                 0           None   \n",
       "\n",
       "        Advisor_5_MGP_ID Advisor_6_Name  Advisor_6_MGP_ID  num_students  \\\n",
       "MGP_ID                                                                    \n",
       "193664                 0           None                 0             0   \n",
       "\n",
       "        num_descendants  \n",
       "MGP_ID                   \n",
       "193664                0  "
      ]
     },
     "execution_count": 66,
     "metadata": {},
     "output_type": "execute_result"
    }
   ],
   "source": [
    "df[df['Name'].str[-1] != ' ']"
   ]
  },
  {
   "cell_type": "markdown",
   "metadata": {},
   "source": [
    "All names have a space at the end."
   ]
  },
  {
   "cell_type": "code",
   "execution_count": 67,
   "metadata": {},
   "outputs": [],
   "source": [
    "# removing space at end\n",
    "\n",
    "df['Name'] = df['Name'].str[:-1]"
   ]
  },
  {
   "cell_type": "markdown",
   "metadata": {},
   "source": [
    "Some names have double spaces."
   ]
  },
  {
   "cell_type": "code",
   "execution_count": 68,
   "metadata": {},
   "outputs": [],
   "source": [
    "df['Name'] = df['Name'].str.replace('  ', ' ')"
   ]
  },
  {
   "cell_type": "markdown",
   "metadata": {},
   "source": [
    "### 1.10. Extracting MathSciNet ID<a id='1.10._Extracting_MathSciNet_ID'></a>"
   ]
  },
  {
   "cell_type": "code",
   "execution_count": 69,
   "metadata": {},
   "outputs": [],
   "source": [
    "df['MScNetID'] = df['MScNID'].apply(lambda x: None if 'href' not in x\n",
    "                                                     else (x.split('ID/')[-1].split('\">')[0]))"
   ]
  },
  {
   "cell_type": "code",
   "execution_count": 70,
   "metadata": {},
   "outputs": [],
   "source": [
    "def none_bool(x):\n",
    "    if x == None:\n",
    "        return True\n",
    "    else: \n",
    "        return False"
   ]
  },
  {
   "cell_type": "code",
   "execution_count": 71,
   "metadata": {
    "scrolled": true
   },
   "outputs": [
    {
     "data": {
      "text/plain": [
       "(110396, 28)"
      ]
     },
     "execution_count": 71,
     "metadata": {},
     "output_type": "execute_result"
    }
   ],
   "source": [
    "df[df['MScNetID'].apply(none_bool)].shape"
   ]
  },
  {
   "cell_type": "markdown",
   "metadata": {},
   "source": [
    "110396 rows with `'MScNetID'` value `None` because no `'href'` in the MScN string"
   ]
  },
  {
   "cell_type": "code",
   "execution_count": 72,
   "metadata": {},
   "outputs": [
    {
     "data": {
      "text/plain": [
       "(378, 28)"
      ]
     },
     "execution_count": 72,
     "metadata": {},
     "output_type": "execute_result"
    }
   ],
   "source": [
    "df[(~df['MScNetID'].apply(none_bool)) & (df['MScNetID'].str.contains('p'))].shape"
   ]
  },
  {
   "cell_type": "code",
   "execution_count": 73,
   "metadata": {},
   "outputs": [],
   "source": [
    "df['MScNetID'] = df['MScNetID'].apply(lambda C: None if C == '<p style=\"text-align: center; margin-top: 0; margin-bottom: 0px; font-size: small'\n",
    "                                      else C)\n"
   ]
  },
  {
   "cell_type": "code",
   "execution_count": 74,
   "metadata": {},
   "outputs": [
    {
     "data": {
      "text/plain": [
       "(148648, 28)"
      ]
     },
     "execution_count": 74,
     "metadata": {},
     "output_type": "execute_result"
    }
   ],
   "source": [
    "df[~df['MScNetID'].apply(none_bool)].shape"
   ]
  },
  {
   "cell_type": "markdown",
   "metadata": {},
   "source": [
    "Check for duplicated MScNetID entries"
   ]
  },
  {
   "cell_type": "code",
   "execution_count": 75,
   "metadata": {},
   "outputs": [
    {
     "data": {
      "text/plain": [
       "(238, 29)"
      ]
     },
     "execution_count": 75,
     "metadata": {},
     "output_type": "execute_result"
    }
   ],
   "source": [
    "mscncount = df.groupby('MScNetID').count()\n",
    "\n",
    "dup = mscncount[mscncount['Name']>1].sort_values('Name',ascending=False)\n",
    "\n",
    "# getting MGP_IDs\n",
    "dups = list(dup.index)\n",
    "\n",
    "df['dup_bool'] = df['MScNetID'].apply(lambda C: True if C in dups else False)\n",
    "\n",
    "multi = df[df['dup_bool']]\n",
    "\n",
    "multi.shape"
   ]
  },
  {
   "cell_type": "markdown",
   "metadata": {},
   "source": [
    "238 duplicated MScNetID entries"
   ]
  },
  {
   "cell_type": "code",
   "execution_count": 76,
   "metadata": {},
   "outputs": [],
   "source": [
    "# dict of MGP_IDs:MScN_IDs that were missed due to MGP error\n",
    "\n",
    "redo_dict = {467:483015, \n",
    "             239638:939540, \n",
    "             239639:None, \n",
    "             239640:None, \n",
    "             240390:None, \n",
    "             242852:981207, \n",
    "             240642:None,\n",
    "             240643:1116130, \n",
    "             240644:None, \n",
    "             240645:None,\n",
    "             242854:1340983,\n",
    "             240461:1379454,\n",
    "             240466:1119891,\n",
    "             240476:1372483,\n",
    "             193987:None,\n",
    "             220405:1377934,\n",
    "             220406:1299512,\n",
    "             240460:None,\n",
    "             240464:None,\n",
    "             240470:None,\n",
    "             91549:636696,\n",
    "             240396:1341326,\n",
    "             240398:None,\n",
    "             240399:1172854,\n",
    "             240400:None,\n",
    "             240401:None,\n",
    "             233558:None,\n",
    "             233559:1326846,\n",
    "             240468:None,\n",
    "             240473:None,\n",
    "             240462:1234379,\n",
    "             240463:None,\n",
    "             240392:875239,\n",
    "             240393:None,\n",
    "             240394:974778,\n",
    "             240471:None,\n",
    "             240646:1379690,\n",
    "             233524:None,\n",
    "             220374:None,\n",
    "             239834:633323,\n",
    "             45905:1254428,\n",
    "             261630:None,\n",
    "             240641:998355,\n",
    "             239716:1380212,\n",
    "             250350:None,\n",
    "             203863:None,\n",
    "             190248:None,\n",
    "             233835:None,\n",
    "             249532:1163257,\n",
    "             239825:782394,\n",
    "             69659:None,\n",
    "             240475:None,\n",
    "             106305:None,\n",
    "             263857:1341609,\n",
    "             234471:None,\n",
    "             226090:None,\n",
    "             239397:1135107,\n",
    "             243561:None,\n",
    "             239966:947586,\n",
    "             256199:1133915,\n",
    "             243588:879054,\n",
    "             245235:1050614,\n",
    "             236262:None,\n",
    "             43447:1248472,\n",
    "             6277:None,\n",
    "             195084:None,\n",
    "             260352:1079752,\n",
    "             78303:None,\n",
    "             217258:1373996,\n",
    "             201634:235506,\n",
    "             240027:None,\n",
    "             254991:None,\n",
    "             255306:882749,\n",
    "             236999:None,\n",
    "             216074:230367,\n",
    "             60744:None,\n",
    "             197423:None,\n",
    "             32464:None,\n",
    "             239480:None,\n",
    "             244152:None,\n",
    "             113745:None,\n",
    "             244500:201995,\n",
    "             221233:None,\n",
    "             231153:None,\n",
    "             248452:None,\n",
    "             156801:1060570,\n",
    "             201922:984063,\n",
    "             233047:None,\n",
    "             206025:None,\n",
    "             255560:None,\n",
    "             209514:None,\n",
    "             207319:None,\n",
    "             204339:None,\n",
    "             140308:1329630,\n",
    "             231230:None,\n",
    "             174075:None,\n",
    "             194321:None,\n",
    "             229598:None,\n",
    "             237224:None,\n",
    "             179871:1080275,\n",
    "             167227:None,\n",
    "             217134:None,\n",
    "             8362:None,\n",
    "             227165:None,\n",
    "             236542:None,\n",
    "             72208:None,\n",
    "             174660:None,\n",
    "             230727:None,\n",
    "             207645:None,\n",
    "             259068:None,\n",
    "             149943:None,\n",
    "             255074:None,\n",
    "             127674:None,\n",
    "             177680:None,\n",
    "             239383:None,\n",
    "             204922:None,\n",
    "             250218:None,\n",
    "             198543:None,\n",
    "             248345:None,\n",
    "             240192:None,\n",
    "             253506:None,\n",
    "             153024:None,\n",
    "             258153:None,\n",
    "             227807:None,\n",
    "             262337:None,\n",
    "             126065:None,\n",
    "             137109:None,\n",
    "             194219:None,\n",
    "             261293:None,\n",
    "             98025:1371696,\n",
    "             209193:None,\n",
    "             93854:None,\n",
    "             234647:916233,\n",
    "             255689:None,\n",
    "             106184:None,\n",
    "             242196:None,\n",
    "             143647:None,\n",
    "             234647:None,\n",
    "             5638:190631\n",
    "            }\n",
    "\n",
    "for mgpid in redo_dict.keys():\n",
    "    df.loc[mgpid,'MScNetID'] = redo_dict[mgpid]\n",
    "    \n",
    "df['MScNetID'] = df['MScNetID'].apply(lambda C: str(C) if C!=None else C)"
   ]
  },
  {
   "cell_type": "code",
   "execution_count": 77,
   "metadata": {},
   "outputs": [],
   "source": [
    "# these are the records of people with duplicate entries\n",
    "# these add the information from the droped duplicate row\n",
    "\n",
    "df.loc[242445, ['Advisor_2_Name','Advisor_2_MGP_ID']] = ['Abedelaziz Mohaisen', 167150]\n",
    "\n",
    "df.loc[218128, ['Advisor_2_Name', 'Advisor_2_MGP_ID']] = ['Patricio Luis Felmer', 11390]\n",
    "\n",
    "df.loc[220918,'MSC'] = 55\n",
    "\n",
    "df.loc[233082,['num_students','num_descendants']] = [1,9]\n",
    "\n",
    "df.loc[9633, ['Advisor_2_Name','Advisor_2_MGP_ID']] = ['Joshua Chover', 5135]\n",
    "\n",
    "df.loc[257640,['Advisor_2_Name','Advisor_2_MGP_ID']] = ['Casimir Alexander Kulikowski', 70194]\n",
    "\n",
    "df.loc[120115,['Advisor_4_Name','Advisor_4_MGP_ID']] = ['Remco Theodoor Peters', 120115]\n",
    "\n",
    "df.loc[244136,['Advisor_2_Name','Advisor_2_MGP_ID']] = ['Rainer Nagel', 21589]\n",
    "\n",
    "df.loc[256396, 'Thesis'] = 'Existence of solutions for some nonlinear elliptic problems'\n",
    "\n",
    "df.loc[252369, ['Advisor_3_Name','Advisor_3_MGP_ID']] = ['Nikolaos D. Katopodes', 252388]"
   ]
  },
  {
   "cell_type": "code",
   "execution_count": 78,
   "metadata": {},
   "outputs": [],
   "source": [
    "# These records have advisors with duplicate entries \n",
    "# and the original reference to the advisor uses the \n",
    "# entry that is being dropped.\n",
    "\n",
    "df.loc[206047, ['Advisor_1_Name', 'Advisor_1_MGP_ID']] = ['Nati Linial', 63895]\n",
    "\n",
    "df.loc[238660, ['Advisor_1_Name', 'Advisor_1_MGP_ID']] = ['Volodimir Leonidovich Makarov', 187063]\n",
    "\n",
    "df.loc[65262, ['Advisor_1_Name', 'Advisor_1_MGP_ID']] = ['Norbert Peters', 233082]\n",
    "\n",
    "df.loc[223968, ['Advisor_1_Name', 'Advisor_1_MGP_ID']] = ['Jerzy Franciszek Plebański', 119928]\n",
    "\n",
    "df.loc[197270, ['Advisor_1_Name', 'Advisor_1_MGP_ID']] = ['Jorge Manuel Sotomayor Tello', 69192]\n",
    "\n",
    "df.loc[199124, ['Advisor_1_Name', 'Advisor_1_MGP_ID']] = ['David José Fernández Cabrera', 223970]\n",
    "\n",
    "df.loc[238114, ['Advisor_1_Name', 'Advisor_1_MGP_ID']] = ['Xiang-Gen Xia', 173753]\n",
    "\n",
    "df.loc[242961, ['Advisor_1_Name', 'Advisor_1_MGP_ID']] = ['Gui-Qiang G. Chen', 38667]\n",
    "\n",
    "df.loc[178268, ['Advisor_1_Name', 'Advisor_1_MGP_ID']] = ['Hongze Li (李红泽)', 204934]\n",
    "\n",
    "df.loc[207215, ['Advisor_1_Name', 'Advisor_1_MGP_ID']] = ['Marco Maria Luigi Sammartino', 188663]\n",
    "\n",
    "df.loc[232091, ['Advisor_1_Name', 'Advisor_1_MGP_ID']] = ['Hector Fidencio Sanchez-Morgado', 6852]\n",
    "\n",
    "df.loc[231388, ['Advisor_1_Name', 'Advisor_1_MGP_ID']] = ['Adriano Tomassini', 171044]\n",
    "\n",
    "df.loc[45308, ['Advisor_1_Name', 'Advisor_1_MGP_ID']] = ['David John Stevenson', 227187]\n",
    "\n",
    "df.loc[215102, ['Advisor_1_Name', 'Advisor_1_MGP_ID']] = ['K. Suresh Kumar', 123774]\n",
    "\n",
    "df.loc[212856, ['Advisor_1_Name', 'Advisor_1_MGP_ID']] = ['Frederic Paik Schoenberg', 34439]\n",
    "\n",
    "df.loc[243237, ['Advisor_1_Name', 'Advisor_1_MGP_ID']] = ['Vitor Domingos Martins de Araújo', 54150]\n",
    "\n",
    "df.loc[243238, ['Advisor_1_Name', 'Advisor_1_MGP_ID']] = ['Vitor Domingos Martins de Araújo', 54150]\n",
    "\n",
    "df.loc[257136, ['Advisor_1_Name', 'Advisor_1_MGP_ID']] = ['Zhi Ding', 220353]\n",
    "\n",
    "df.loc[257137, ['Advisor_1_Name', 'Advisor_1_MGP_ID']] = ['Zhi Ding', 220353]\n",
    "\n",
    "df.loc[237126, ['Advisor_1_Name', 'Advisor_1_MGP_ID']] = ['Jayanthan A V', 37588]\n",
    "\n",
    "df.loc[241593, ['Advisor_1_Name', 'Advisor_1_MGP_ID']] = ['Mrinal Kanti Das', 9777]\n",
    "\n",
    "df.loc[206697, ['Advisor_1_Name', 'Advisor_1_MGP_ID']] = ['Abbas Syed', 141151]\n",
    "\n",
    "df.loc[239385, ['Advisor_1_Name', 'Advisor_1_MGP_ID']] = ['Dimas Jose Goncalves', 146882]\n",
    "\n",
    "df.loc[250923, ['Advisor_1_Name', 'Advisor_1_MGP_ID']] = ['Sourav Pal', 251547]\n",
    "\n",
    "df.loc[239940, ['Advisor_2_Name', 'Advisor_2_MGP_ID']] = ['José Ángel Peláez', 77913]\n",
    "\n",
    "df.loc[258001, ['Advisor_2_Name', 'Advisor_2_MGP_ID']] = ['Ragnar Freij-Hollanti', 165053]\n",
    "\n"
   ]
  },
  {
   "cell_type": "markdown",
   "metadata": {},
   "source": [
    "Check for any other `MScNetID` duplicates"
   ]
  },
  {
   "cell_type": "code",
   "execution_count": 79,
   "metadata": {},
   "outputs": [
    {
     "data": {
      "text/plain": [
       "(0, 29)"
      ]
     },
     "execution_count": 79,
     "metadata": {},
     "output_type": "execute_result"
    }
   ],
   "source": [
    "mscncount = df.groupby('MScNetID').count()\n",
    "\n",
    "dup = mscncount[mscncount['Name']>1].sort_values('Name',ascending=False)\n",
    "\n",
    "# getting MGP_IDs\n",
    "dups = list(dup.index)\n",
    "\n",
    "df['dup_bool'] = df['MScNetID'].apply(lambda C: True if C in dups else False)\n",
    "\n",
    "multi = df[df['dup_bool']]\n",
    "\n",
    "multi.shape"
   ]
  },
  {
   "cell_type": "code",
   "execution_count": 80,
   "metadata": {},
   "outputs": [
    {
     "data": {
      "text/plain": [
       "(148554, 29)"
      ]
     },
     "execution_count": 80,
     "metadata": {},
     "output_type": "execute_result"
    }
   ],
   "source": [
    "df[~df['MScNetID'].apply(none_bool)].shape"
   ]
  },
  {
   "cell_type": "code",
   "execution_count": 81,
   "metadata": {},
   "outputs": [],
   "source": [
    "# redo_list = [i for i in redo_dict.values() if i!= None]\n",
    "# len(redo_list)"
   ]
  },
  {
   "cell_type": "code",
   "execution_count": 82,
   "metadata": {},
   "outputs": [],
   "source": [
    "# pd.Series(redo_list).to_csv('MScN/MScN_redo_list.csv')"
   ]
  },
  {
   "cell_type": "code",
   "execution_count": 83,
   "metadata": {},
   "outputs": [
    {
     "data": {
      "text/plain": [
       "(148554, 28)"
      ]
     },
     "execution_count": 83,
     "metadata": {},
     "output_type": "execute_result"
    }
   ],
   "source": [
    "df.groupby('MScNetID').count().shape"
   ]
  },
  {
   "cell_type": "markdown",
   "metadata": {},
   "source": [
    "### 1.11. More drops<a id='1.11._More_drops'></a>"
   ]
  },
  {
   "cell_type": "code",
   "execution_count": 84,
   "metadata": {},
   "outputs": [],
   "source": [
    "df.drop(['MSC','Advisor','Descendants','MScNID','Degree_Info','dup_bool'], axis = 1, inplace = True)\n",
    "\n",
    "# change some column names\n",
    "df.columns = ['Name', 'Thesis', 'Degree', 'School', 'Country', 'Year', 'MSC', 'num_advisors', 'Advisor_1_Name',\n",
    "       'Advisor_1_MGP_ID', 'Advisor_2_Name', 'Advisor_2_MGP_ID',\n",
    "       'Advisor_3_Name', 'Advisor_3_MGP_ID', 'Advisor_4_Name',\n",
    "       'Advisor_4_MGP_ID', 'Advisor_5_Name', 'Advisor_5_MGP_ID',\n",
    "       'Advisor_6_Name', 'Advisor_6_MGP_ID', 'num_students',\n",
    "       'num_descendants', 'MScNetID']\n",
    "\n",
    "# change order of columns\n",
    "\n",
    "df = df[['Name', 'MScNetID', 'Degree', 'School', 'Country', 'Year', 'Thesis', 'MSC', 'num_students',\n",
    "       'num_descendants', 'num_advisors', 'Advisor_1_Name',\n",
    "       'Advisor_1_MGP_ID', 'Advisor_2_Name', 'Advisor_2_MGP_ID',\n",
    "       'Advisor_3_Name', 'Advisor_3_MGP_ID', 'Advisor_4_Name',\n",
    "       'Advisor_4_MGP_ID', 'Advisor_5_Name', 'Advisor_5_MGP_ID',\n",
    "       'Advisor_6_Name', 'Advisor_6_MGP_ID']]\n",
    "\n",
    "cols = ['Name', 'MScNetID', 'Degree', 'School', 'Country', 'Year', 'Thesis', 'MSC', 'num_students',\n",
    "       'num_descendants', 'num_advisors', 'Advisor_1_Name',\n",
    "       'Advisor_1_MGP_ID', 'Advisor_2_Name', 'Advisor_2_MGP_ID',\n",
    "       'Advisor_3_Name', 'Advisor_3_MGP_ID', 'Advisor_4_Name',\n",
    "       'Advisor_4_MGP_ID', 'Advisor_5_Name', 'Advisor_5_MGP_ID',\n",
    "       'Advisor_6_Name', 'Advisor_6_MGP_ID']"
   ]
  },
  {
   "cell_type": "code",
   "execution_count": 85,
   "metadata": {},
   "outputs": [
    {
     "data": {
      "text/plain": [
       "(259422, 23)"
      ]
     },
     "execution_count": 85,
     "metadata": {},
     "output_type": "execute_result"
    }
   ],
   "source": [
    "df.shape"
   ]
  },
  {
   "cell_type": "markdown",
   "metadata": {},
   "source": [
    "## 2. MScN data frame<a id='2._MScN_data_frame'></a>"
   ]
  },
  {
   "cell_type": "markdown",
   "metadata": {},
   "source": [
    "### 2.1. Import MScN data<a id='2.1._Import_MScN_data'></a>"
   ]
  },
  {
   "cell_type": "code",
   "execution_count": 86,
   "metadata": {},
   "outputs": [],
   "source": [
    "#  ms_list = [pd.read_csv('MScN/MScN_Author%s,%s.csv'%(K*1000, (K+1)*1000)) for K in range(0,150)]+[pd.read_csv('MScN/MScN_Author0,44.csv')]+[pd.read_csv('MScN/MScN_Author0,387.csv')]\n",
    "\n",
    "#  ms = pd.concat(ms_list,ignore_index=True)\n",
    "\n",
    "# ms.to_csv('MScN/MScN_Author_scrape.csv')"
   ]
  },
  {
   "cell_type": "code",
   "execution_count": 87,
   "metadata": {},
   "outputs": [],
   "source": [
    "ms = pd.read_csv('MScN/MScN_Author_scrape.csv')"
   ]
  },
  {
   "cell_type": "code",
   "execution_count": 88,
   "metadata": {},
   "outputs": [
    {
     "data": {
      "text/plain": [
       "(148796, 6)"
      ]
     },
     "execution_count": 88,
     "metadata": {},
     "output_type": "execute_result"
    }
   ],
   "source": [
    "ms.shape"
   ]
  },
  {
   "cell_type": "markdown",
   "metadata": {},
   "source": [
    "### 2.2. Drop defective rows<a id='2.2._Drop_defective_rows'></a>"
   ]
  },
  {
   "cell_type": "code",
   "execution_count": 89,
   "metadata": {},
   "outputs": [],
   "source": [
    "ms['MScN_ID'] = ms['MScN_ID'].apply(str)"
   ]
  },
  {
   "cell_type": "code",
   "execution_count": 90,
   "metadata": {},
   "outputs": [],
   "source": [
    "# drop non-digit MScN_ID entries\n",
    "\n",
    "\n",
    "ms = ms[ms['MScN_ID'].str.isdigit()]"
   ]
  },
  {
   "cell_type": "code",
   "execution_count": 91,
   "metadata": {},
   "outputs": [],
   "source": [
    "# drop duplicates in ms table\n",
    "ms.drop_duplicates(subset = 'MScN_ID', inplace=True)"
   ]
  },
  {
   "cell_type": "code",
   "execution_count": 92,
   "metadata": {},
   "outputs": [
    {
     "data": {
      "text/plain": [
       "(148191, 6)"
      ]
     },
     "execution_count": 92,
     "metadata": {},
     "output_type": "execute_result"
    }
   ],
   "source": [
    "ms.shape"
   ]
  },
  {
   "cell_type": "code",
   "execution_count": 93,
   "metadata": {},
   "outputs": [
    {
     "data": {
      "text/plain": [
       "(0, 7)"
      ]
     },
     "execution_count": 93,
     "metadata": {},
     "output_type": "execute_result"
    }
   ],
   "source": [
    "mscount = ms.groupby('MScN_ID').count().sort_values('Name',ascending=False)\n",
    "\n",
    "msdup = mscount[mscount['Name']>1]\n",
    "\n",
    "# getting MGP_IDs\n",
    "msdups = list(msdup.index)\n",
    "\n",
    "ms['msdup_bool'] = ms['MScN_ID'].apply(lambda C: True if C in msdups else False)\n",
    "\n",
    "msmulti = ms[ms['msdup_bool']]\n",
    "\n",
    "msmulti.shape"
   ]
  },
  {
   "cell_type": "code",
   "execution_count": 94,
   "metadata": {},
   "outputs": [],
   "source": [
    "# drop MScN_ID because it doesn't correspond to the proper person\n",
    "\n",
    "ms = ms[~(ms['MScN_ID'] == '713534')]"
   ]
  },
  {
   "cell_type": "markdown",
   "metadata": {},
   "source": [
    "### 2.3. Align MGP and MScN MathSciNet IDs<a id='2.3._Align_MGP_and_MScN_MathSciNet_IDs'></a>"
   ]
  },
  {
   "cell_type": "code",
   "execution_count": 95,
   "metadata": {},
   "outputs": [
    {
     "name": "stdout",
     "output_type": "stream",
     "text": [
      "148190\n",
      "148554\n",
      "364\n"
     ]
    }
   ],
   "source": [
    "ms_mscns = set(ms['MScN_ID'])\n",
    "df_mscns = set(df[~df['MScNetID'].apply(none_bool)]['MScNetID'])\n",
    "\n",
    "print(len(ms_mscns))\n",
    "print(len(df_mscns))\n",
    "print(len(df_mscns) - len(ms_mscns))"
   ]
  },
  {
   "cell_type": "code",
   "execution_count": 96,
   "metadata": {},
   "outputs": [
    {
     "name": "stdout",
     "output_type": "stream",
     "text": [
      "0\n",
      "set()\n"
     ]
    }
   ],
   "source": [
    "in_ms = ms_mscns.difference(df_mscns)\n",
    "print(len(in_ms))\n",
    "print(in_ms)"
   ]
  },
  {
   "cell_type": "code",
   "execution_count": 97,
   "metadata": {},
   "outputs": [],
   "source": [
    "# pd.Series(list(in_ms)).to_csv('missed_mscns2.csv')"
   ]
  },
  {
   "cell_type": "code",
   "execution_count": 98,
   "metadata": {},
   "outputs": [
    {
     "data": {
      "text/plain": [
       "364"
      ]
     },
     "execution_count": 98,
     "metadata": {},
     "output_type": "execute_result"
    }
   ],
   "source": [
    "in_df = df_mscns.difference(ms_mscns)\n",
    "len(in_df)"
   ]
  },
  {
   "cell_type": "markdown",
   "metadata": {},
   "source": [
    "The rest of the mscn_ids in `df` that are not in `ms` do not correspond to an actual MathSciNet page.  Some of these can maybe be fixed, the set is small enough to leave."
   ]
  },
  {
   "cell_type": "code",
   "execution_count": 99,
   "metadata": {},
   "outputs": [],
   "source": [
    "for x in list(in_df):\n",
    "    df['MScNetID'] = df['MScNetID'].apply(lambda C: None if C == x else C)\n"
   ]
  },
  {
   "cell_type": "markdown",
   "metadata": {},
   "source": [
    "Checking that the MathSciNet IDs align"
   ]
  },
  {
   "cell_type": "code",
   "execution_count": 100,
   "metadata": {},
   "outputs": [
    {
     "name": "stdout",
     "output_type": "stream",
     "text": [
      "148190\n",
      "148190\n",
      "0\n"
     ]
    }
   ],
   "source": [
    "ms_mscns = set(ms['MScN_ID'])\n",
    "df_mscns = set(df[~df['MScNetID'].apply(none_bool)]['MScNetID'])\n",
    "\n",
    "print(len(ms_mscns))\n",
    "print(len(df_mscns))\n",
    "print(len(df_mscns) - len(ms_mscns))"
   ]
  },
  {
   "cell_type": "code",
   "execution_count": 101,
   "metadata": {},
   "outputs": [
    {
     "name": "stdout",
     "output_type": "stream",
     "text": [
      "0\n"
     ]
    }
   ],
   "source": [
    "in_ms = ms_mscns.difference(df_mscns)\n",
    "print(len(in_ms))\n"
   ]
  },
  {
   "cell_type": "code",
   "execution_count": 102,
   "metadata": {},
   "outputs": [
    {
     "data": {
      "text/plain": [
       "0"
      ]
     },
     "execution_count": 102,
     "metadata": {},
     "output_type": "execute_result"
    }
   ],
   "source": [
    "in_df = df_mscns.difference(ms_mscns)\n",
    "len(in_df)"
   ]
  },
  {
   "cell_type": "code",
   "execution_count": 103,
   "metadata": {},
   "outputs": [
    {
     "data": {
      "text/plain": [
       "148190"
      ]
     },
     "execution_count": 103,
     "metadata": {},
     "output_type": "execute_result"
    }
   ],
   "source": [
    "intersect = df_mscns.intersection(ms_mscns)\n",
    "len(intersect)"
   ]
  },
  {
   "cell_type": "markdown",
   "metadata": {},
   "source": [
    "### 2.4. Extracting info from scraped MathSciNet data<a id='2.4._Extracting_info_from_scraped_MathSciNet_data'></a>"
   ]
  },
  {
   "cell_type": "code",
   "execution_count": 104,
   "metadata": {},
   "outputs": [
    {
     "data": {
      "text/plain": [
       "(148190, 7)"
      ]
     },
     "execution_count": 104,
     "metadata": {},
     "output_type": "execute_result"
    }
   ],
   "source": [
    "ms.shape"
   ]
  },
  {
   "cell_type": "code",
   "execution_count": 105,
   "metadata": {},
   "outputs": [
    {
     "data": {
      "text/plain": [
       "Index(['Unnamed: 0', 'Unnamed: 0.1', 'MScN_ID', 'Name', 'Data', 'Collab_Subj',\n",
       "       'msdup_bool'],\n",
       "      dtype='object')"
      ]
     },
     "execution_count": 105,
     "metadata": {},
     "output_type": "execute_result"
    }
   ],
   "source": [
    "ms.columns"
   ]
  },
  {
   "cell_type": "code",
   "execution_count": 106,
   "metadata": {},
   "outputs": [],
   "source": [
    "ms.set_index('MScN_ID', inplace=True)\n",
    "\n",
    "ms.drop(['Unnamed: 0', 'Unnamed: 0.1', 'msdup_bool'], axis=1, inplace=True)\n",
    "\n",
    "# getting Name\n",
    "ms['Name1'] = ms['Name'].apply(lambda C: C.split('\\n    ')[-1].split(' - ')[0])\n",
    "\n",
    "\n",
    "# getting earliest indexed publication\n",
    "ms['Earliest_Pub'] = ms['Data'].apply(lambda C: C.split('<strong>')[-1].split('</strong')[0])\n",
    "\n",
    "# converting missing earliest pub data to 0\n",
    "ms['Earliest_Pub'] = ms['Earliest_Pub'].apply(lambda C: C if C.isdigit() else '0')\n",
    "\n",
    "# convert earliest pub to type int\n",
    "ms['Earliest_Pub'] = ms['Earliest_Pub'].apply(int)\n",
    "\n",
    "\n",
    "# getting total pubs\n",
    "ms['Total_Pubs'] = ms['Data'].apply(lambda C: C.split('Total Publications:</td>, <td>')[-1].split('<')[0])\n",
    "\n",
    "# replace missing total pub values with 0\n",
    "ms['Total_Pubs'] = ms['Total_Pubs'].apply(lambda C: '0' if C == '[' else C)\n",
    "\n",
    "# convert total pub column to type int\n",
    "ms['Total_Pubs'] = ms['Total_Pubs'].apply(int)\n",
    "\n",
    "\n",
    "# getting total related publications\n",
    "ms['Total_Rel_Pubs'] = ms['Data'].apply(lambda C: C.split('Total Related Publications:</td>, <td>')[-1].split('<')[0] \n",
    "                                        if 'Related' in C\n",
    "                                        else '0')\n",
    "\n",
    "# convert total rel pubs column to type int\n",
    "ms['Total_Rel_Pubs'] = ms['Total_Rel_Pubs'].apply(int)\n",
    "\n",
    "\n",
    "# getting total Citations\n",
    "ms['Total_Citations'] = ms['Data'].apply(lambda C: C.split('Total Citations:</td>, <td>')[-1].split('<')[0])\n",
    "\n",
    "# replace missing citation values with 0\n",
    "ms['Total_Citations'] = ms['Total_Citations'].apply(lambda C: '0' if C == '[' else C)\n",
    "\n",
    "# convert citation column to type int\n",
    "ms['Total_Citations'] = ms['Total_Citations'].apply(int)\n",
    "\n",
    "def num_collabs(s):\n",
    "    return len(s.split('MR Author ID ')) - 1\n",
    "\n",
    "def col_list(s):\n",
    "    \n",
    "    return [[s.split('MR Author ID ')[i+1].split('\">')[0], \n",
    "             s.split('MR Author ID ')[i+1].split('\">')[1].split('</a>')[0]]\n",
    "           for i in range(num_collabs(s))]\n",
    "\n",
    "\n",
    "\n",
    "def col_ids(ls):\n",
    "    return [x[0] for x in ls]\n",
    "def col_names(ls):\n",
    "    return [x[1] for x in ls]\n",
    "\n",
    "# getting tuple of collaborator ids and names\n",
    "ms['Collaborator_Data'] = ms['Collab_Subj'].apply(col_list)\n",
    "\n",
    "# getting list of collaborator ids\n",
    "ms['Collaborator_IDs'] = ms['Collaborator_Data'].apply(col_ids)\n",
    "\n",
    "# getting list of collaborator names\n",
    "ms['Collaborator_Names'] = ms['Collaborator_Data'].apply(col_names)\n",
    "\n",
    "def num_subjects(s):\n",
    "    return len(s.split('Primary Class ')) - 1\n",
    "\n",
    "def subject_list(s):\n",
    "    \n",
    "    return [s.split('Primary Class ')[i+1].split('\">')[0]\n",
    "           for i in range(num_subjects(s))]\n",
    "\n",
    "# getting list of subjects (in MSC)\n",
    "ms['Subjects'] = ms['Collab_Subj'].apply(subject_list)\n",
    "\n",
    "ms.drop(['Name', 'Data', 'Collab_Subj'], axis = 1, inplace = True)\n",
    "\n",
    "ms.columns = ['Name_MScN', 'Earliest_Pub', 'Total_Pubs', 'Total_Rel_Pubs', 'Total_Citations', 'CollabData', 'CollabIDs', 'CollabNames', 'Subjects']\n",
    "\n",
    "ms.drop('CollabData', axis=1, inplace=True)\n",
    "\n",
    "ms['Num_Collaborators'] = ms['CollabIDs'].apply(len)\n",
    "\n",
    "ms['Num_Subjects'] = ms['Subjects'].apply(len)\n",
    "\n",
    "ms['Total_Citations'] = ms['Total_Citations'].apply(lambda C: '0' if C == '[' else C)\n",
    "\n",
    "\n",
    "\n",
    "ms['CollabIDs'] = ms['CollabIDs'].apply(lambda C: None if C == [] else C)\n",
    "ms['CollabNames'] = ms['CollabNames'].apply(lambda C: None if C == [] else C)\n",
    "\n",
    "ms['Subjects'] = ms['Subjects'].apply(lambda C: None if C == [] else C)\n",
    "\n"
   ]
  },
  {
   "cell_type": "markdown",
   "metadata": {},
   "source": [
    "### 2.5. Save dataframes<a id='2.5._Save_dataframes'></a>"
   ]
  },
  {
   "cell_type": "code",
   "execution_count": 107,
   "metadata": {},
   "outputs": [],
   "source": [
    "df.to_csv('MGP/MGP_clean.csv')\n",
    "ms.to_csv('MScN/MScN_Author_clean.csv')"
   ]
  },
  {
   "cell_type": "markdown",
   "metadata": {},
   "source": [
    "## 3. Joining MGP and MScN<a id='3._Joining_MGP_and_MScN'>"
   ]
  },
  {
   "cell_type": "markdown",
   "metadata": {},
   "source": [
    "### 3.1. Join<a id='3.1._Join'></a>"
   ]
  },
  {
   "cell_type": "code",
   "execution_count": 108,
   "metadata": {},
   "outputs": [],
   "source": [
    "am = df.join(ms, how='left', on = 'MScNetID', rsuffix = 'MScN')"
   ]
  },
  {
   "cell_type": "code",
   "execution_count": 109,
   "metadata": {},
   "outputs": [
    {
     "data": {
      "text/plain": [
       "(259422, 33)"
      ]
     },
     "execution_count": 109,
     "metadata": {},
     "output_type": "execute_result"
    }
   ],
   "source": [
    "am.shape"
   ]
  },
  {
   "cell_type": "markdown",
   "metadata": {},
   "source": [
    "### 3.2. Typecast<a id='3.2._Typecast'></a>"
   ]
  },
  {
   "cell_type": "code",
   "execution_count": 110,
   "metadata": {},
   "outputs": [],
   "source": [
    "# convert MScNetID, MSC, earliest pub, total pubs, total rel pubs, total citations, num collaborators, and num_subjects \n",
    "# to type int with -1 serving for empty info\n",
    "\n",
    "cols = ['Earliest_Pub', 'Total_Pubs', 'Total_Rel_Pubs', 'Total_Citations', 'Num_Collaborators', 'Num_Subjects','MSC', ]\n",
    "\n",
    "for col in cols:\n",
    "    am[col] = am[col].apply(str)\\\n",
    "    .apply(lambda C: -1 if C == 'nan' else int(float(C)))\n",
    "\n",
    "am['MScNetID'] = am['MScNetID'].apply(str).apply(lambda C: -1 if C == 'None' else int(C))\n"
   ]
  },
  {
   "cell_type": "code",
   "execution_count": 111,
   "metadata": {},
   "outputs": [
    {
     "data": {
      "text/plain": [
       "[('Name', dtype('O')),\n",
       " ('MScNetID', dtype('int64')),\n",
       " ('Degree', dtype('O')),\n",
       " ('School', dtype('O')),\n",
       " ('Country', dtype('O')),\n",
       " ('Year', dtype('int64')),\n",
       " ('Thesis', dtype('O')),\n",
       " ('MSC', dtype('int64')),\n",
       " ('num_students', dtype('int64')),\n",
       " ('num_descendants', dtype('int64')),\n",
       " ('num_advisors', dtype('int64')),\n",
       " ('Advisor_1_Name', dtype('O')),\n",
       " ('Advisor_1_MGP_ID', dtype('int64')),\n",
       " ('Advisor_2_Name', dtype('O')),\n",
       " ('Advisor_2_MGP_ID', dtype('int64')),\n",
       " ('Advisor_3_Name', dtype('O')),\n",
       " ('Advisor_3_MGP_ID', dtype('int64')),\n",
       " ('Advisor_4_Name', dtype('O')),\n",
       " ('Advisor_4_MGP_ID', dtype('int64')),\n",
       " ('Advisor_5_Name', dtype('O')),\n",
       " ('Advisor_5_MGP_ID', dtype('int64')),\n",
       " ('Advisor_6_Name', dtype('O')),\n",
       " ('Advisor_6_MGP_ID', dtype('int64')),\n",
       " ('Name_MScN', dtype('O')),\n",
       " ('Earliest_Pub', dtype('int64')),\n",
       " ('Total_Pubs', dtype('int64')),\n",
       " ('Total_Rel_Pubs', dtype('int64')),\n",
       " ('Total_Citations', dtype('int64')),\n",
       " ('CollabIDs', dtype('O')),\n",
       " ('CollabNames', dtype('O')),\n",
       " ('Subjects', dtype('O')),\n",
       " ('Num_Collaborators', dtype('int64')),\n",
       " ('Num_Subjects', dtype('int64'))]"
      ]
     },
     "execution_count": 111,
     "metadata": {},
     "output_type": "execute_result"
    }
   ],
   "source": [
    "list(zip(am.columns, [am[c].dtype for c in am.columns]))\n"
   ]
  },
  {
   "cell_type": "code",
   "execution_count": 112,
   "metadata": {},
   "outputs": [
    {
     "data": {
      "text/plain": [
       "(148190, 33)"
      ]
     },
     "execution_count": 112,
     "metadata": {},
     "output_type": "execute_result"
    }
   ],
   "source": [
    "am[(am['Total_Pubs']!= -1)].shape"
   ]
  },
  {
   "cell_type": "markdown",
   "metadata": {},
   "source": [
    "### 3.3. Viable rows<a id='3.3._Viable_rows'></a>"
   ]
  },
  {
   "cell_type": "code",
   "execution_count": 113,
   "metadata": {},
   "outputs": [
    {
     "data": {
      "text/plain": [
       "(41037, 33)"
      ]
     },
     "execution_count": 113,
     "metadata": {},
     "output_type": "execute_result"
    }
   ],
   "source": [
    "am[(am['num_students'] > 0) & (am['Total_Pubs']!= -1)].shape"
   ]
  },
  {
   "cell_type": "markdown",
   "metadata": {},
   "source": [
    "41,037 records with nonempty publication data and with at least one student.  This is an excellent size to use for training/testing."
   ]
  },
  {
   "cell_type": "code",
   "execution_count": 114,
   "metadata": {},
   "outputs": [],
   "source": [
    "am.to_csv('MGP_MScN.csv')\n",
    "am.to_excel('MGP_MScN.xlsx')"
   ]
  }
 ],
 "metadata": {
  "kernelspec": {
   "display_name": "Python 3",
   "language": "python",
   "name": "python3"
  },
  "language_info": {
   "codemirror_mode": {
    "name": "ipython",
    "version": 3
   },
   "file_extension": ".py",
   "mimetype": "text/x-python",
   "name": "python",
   "nbconvert_exporter": "python",
   "pygments_lexer": "ipython3",
   "version": "3.8.5"
  }
 },
 "nbformat": 4,
 "nbformat_minor": 4
}
